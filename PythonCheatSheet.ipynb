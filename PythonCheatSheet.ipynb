{
 "cells": [
  {
   "cell_type": "markdown",
   "id": "c57950c3-a97a-4c3e-86b3-786fbf0afccf",
   "metadata": {},
   "source": [
    "# Python 3 CheatSheet\n",
    "\n",
    "Victoria Pinzhen Liao\n",
    "https://purrgramming.life/"
   ]
  },
  {
   "cell_type": "code",
   "execution_count": 7,
   "id": "efa0f1c4-395c-4833-9e79-f75589b82e64",
   "metadata": {},
   "outputs": [
    {
     "name": "stdout",
     "output_type": "stream",
     "text": [
      "Python version\n",
      "3.9.12 (main, Apr  4 2022, 05:22:27) [MSC v.1916 64 bit (AMD64)]\n",
      "Version info.\n",
      "sys.version_info(major=3, minor=9, micro=12, releaselevel='final', serial=0)\n"
     ]
    }
   ],
   "source": [
    "import sys\n",
    "print(\"Python version\")\n",
    "print (sys.version)\n",
    "print(\"Version info.\")\n",
    "print (sys.version_info)"
   ]
  },
  {
   "cell_type": "markdown",
   "id": "f4bfa8ef-6852-44c2-a50a-7db877a8a169",
   "metadata": {},
   "source": [
    "## Types and Casting\n",
    "\n",
    " \n"
   ]
  },
  {
   "cell_type": "code",
   "execution_count": 107,
   "id": "93a98b44-727e-49ce-96dc-fa24022a89b3",
   "metadata": {},
   "outputs": [
    {
     "data": {
      "text/plain": [
       "'3'"
      ]
     },
     "execution_count": 107,
     "metadata": {},
     "output_type": "execute_result"
    }
   ],
   "source": [
    "str(3)    #  will be '3'\n"
   ]
  },
  {
   "cell_type": "code",
   "execution_count": 109,
   "id": "67f70e03-71ed-49db-a815-cb2f21310b6a",
   "metadata": {},
   "outputs": [
    {
     "data": {
      "text/plain": [
       "3"
      ]
     },
     "execution_count": 109,
     "metadata": {},
     "output_type": "execute_result"
    }
   ],
   "source": [
    "int(3)    #   will be 3\n"
   ]
  },
  {
   "cell_type": "code",
   "execution_count": 110,
   "id": "ed886d79-4874-4015-a7b3-5bc9b13eb129",
   "metadata": {},
   "outputs": [
    {
     "data": {
      "text/plain": [
       "3.0"
      ]
     },
     "execution_count": 110,
     "metadata": {},
     "output_type": "execute_result"
    }
   ],
   "source": [
    "float(3)  # will be 3.0"
   ]
  },
  {
   "cell_type": "code",
   "execution_count": 111,
   "id": "ff573ea4-6c2c-4300-a9ce-8747e7d0b8e3",
   "metadata": {},
   "outputs": [
    {
     "name": "stdout",
     "output_type": "stream",
     "text": [
      "<class 'int'>\n",
      "<class 'str'>\n"
     ]
    }
   ],
   "source": [
    "x = 5\n",
    "y = \"John\"\n",
    "print(type(x))\n",
    "print(type(y))"
   ]
  },
  {
   "cell_type": "markdown",
   "id": "cf63802e-9fa9-48c4-b8ee-ac8e2e061236",
   "metadata": {},
   "source": [
    "## Boolean"
   ]
  },
  {
   "cell_type": "code",
   "execution_count": 15,
   "id": "bd385170-57be-4310-832f-35bf8fc0123f",
   "metadata": {},
   "outputs": [
    {
     "data": {
      "text/plain": [
       "True"
      ]
     },
     "execution_count": 15,
     "metadata": {},
     "output_type": "execute_result"
    }
   ],
   "source": [
    "# Boolean values are primitives (Note: the capitalization)\n",
    "True   # => True\n"
   ]
  },
  {
   "cell_type": "code",
   "execution_count": 16,
   "id": "eff4f1f2-eaba-4bfb-b2d8-617982d8d2ee",
   "metadata": {},
   "outputs": [
    {
     "data": {
      "text/plain": [
       "False"
      ]
     },
     "execution_count": 16,
     "metadata": {},
     "output_type": "execute_result"
    }
   ],
   "source": [
    "False  # => False"
   ]
  },
  {
   "cell_type": "code",
   "execution_count": 18,
   "id": "e28ebb6e-539f-44ac-a75c-cd01cbacb333",
   "metadata": {},
   "outputs": [
    {
     "data": {
      "text/plain": [
       "False"
      ]
     },
     "execution_count": 18,
     "metadata": {},
     "output_type": "execute_result"
    }
   ],
   "source": [
    "# negate with not\n",
    "\n",
    "not True   # => False"
   ]
  },
  {
   "cell_type": "code",
   "execution_count": 19,
   "id": "3558890c-3d95-48e0-9305-4df6cc094654",
   "metadata": {},
   "outputs": [
    {
     "data": {
      "text/plain": [
       "True"
      ]
     },
     "execution_count": 19,
     "metadata": {},
     "output_type": "execute_result"
    }
   ],
   "source": [
    "not False  # => True"
   ]
  },
  {
   "cell_type": "code",
   "execution_count": 20,
   "id": "3714f018-8102-4c5f-b096-ca6179cf842c",
   "metadata": {},
   "outputs": [
    {
     "data": {
      "text/plain": [
       "True"
      ]
     },
     "execution_count": 20,
     "metadata": {},
     "output_type": "execute_result"
    }
   ],
   "source": [
    "# Boolean Operators\n",
    "# Note \"and\" and \"or\" are case-sensitive\n",
    "True and False  # => False\n",
    "False or True   # => True"
   ]
  },
  {
   "cell_type": "code",
   "execution_count": 21,
   "id": "2961d5a1-dd92-4719-9416-e3561d15dd26",
   "metadata": {},
   "outputs": [
    {
     "data": {
      "text/plain": [
       "-5"
      ]
     },
     "execution_count": 21,
     "metadata": {},
     "output_type": "execute_result"
    }
   ],
   "source": [
    "# True and False are actually 1 and 0 but with different keywords\n",
    "True + True # => 2\n",
    "True * 8    # => 8\n",
    "False - 5   # => -5"
   ]
  },
  {
   "cell_type": "code",
   "execution_count": 22,
   "id": "5cc515e1-58a4-4565-bc6b-77025130fa13",
   "metadata": {},
   "outputs": [
    {
     "data": {
      "text/plain": [
       "True"
      ]
     },
     "execution_count": 22,
     "metadata": {},
     "output_type": "execute_result"
    }
   ],
   "source": [
    "# Comparison operators look at the numerical value of True and False\n",
    "0 == False  # => True\n",
    "1 == True   # => True\n",
    "2 == True   # => False\n",
    "-5 != False # => True"
   ]
  },
  {
   "cell_type": "code",
   "execution_count": 23,
   "id": "ef942413-0709-4def-8035-b4c172371952",
   "metadata": {},
   "outputs": [
    {
     "data": {
      "text/plain": [
       "-5"
      ]
     },
     "execution_count": 23,
     "metadata": {},
     "output_type": "execute_result"
    }
   ],
   "source": [
    "# Using boolean logical operators on ints casts them to booleans for evaluation, but their non-cast value is returned\n",
    "# Don't mix up with bool(ints) and bitwise and/or (&,|)\n",
    "bool(0)     # => False\n",
    "bool(4)     # => True\n",
    "bool(-6)    # => True\n",
    "0 and 2     # => 0\n",
    "-5 or 0     # => -5"
   ]
  },
  {
   "cell_type": "code",
   "execution_count": 24,
   "id": "b7f45b2f-7316-4cfb-a970-db84d8899159",
   "metadata": {},
   "outputs": [
    {
     "data": {
      "text/plain": [
       "False"
      ]
     },
     "execution_count": 24,
     "metadata": {},
     "output_type": "execute_result"
    }
   ],
   "source": [
    "# Equality is ==\n",
    "1 == 1  # => True\n",
    "2 == 1  # => False"
   ]
  },
  {
   "cell_type": "code",
   "execution_count": 25,
   "id": "945287fb-67b8-480e-ae83-c1f290aa6a9f",
   "metadata": {},
   "outputs": [
    {
     "data": {
      "text/plain": [
       "True"
      ]
     },
     "execution_count": 25,
     "metadata": {},
     "output_type": "execute_result"
    }
   ],
   "source": [
    "# Inequality is !=\n",
    "1 != 1  # => False\n",
    "2 != 1  # => True"
   ]
  },
  {
   "cell_type": "code",
   "execution_count": null,
   "id": "5e5e844a-44ed-4711-a960-1c0233886266",
   "metadata": {},
   "outputs": [],
   "source": []
  },
  {
   "cell_type": "markdown",
   "id": "72c1f11c-362d-409b-ae7c-3091297fa3f6",
   "metadata": {},
   "source": [
    "## Numbers\n",
    "\n",
    "### +, -, * and / "
   ]
  },
  {
   "cell_type": "code",
   "execution_count": 2,
   "id": "51fe3b22-7280-45da-bd04-f827af625ed2",
   "metadata": {},
   "outputs": [
    {
     "data": {
      "text/plain": [
       "4"
      ]
     },
     "execution_count": 2,
     "metadata": {},
     "output_type": "execute_result"
    }
   ],
   "source": [
    "2 + 2"
   ]
  },
  {
   "cell_type": "code",
   "execution_count": 3,
   "id": "81d606e7-84c0-4c21-86fb-1867477c5e6b",
   "metadata": {},
   "outputs": [
    {
     "data": {
      "text/plain": [
       "1.6"
      ]
     },
     "execution_count": 3,
     "metadata": {},
     "output_type": "execute_result"
    }
   ],
   "source": [
    "8/5  # division always returns a floating point number"
   ]
  },
  {
   "cell_type": "code",
   "execution_count": 4,
   "id": "2ffb7fbd-b2a3-41c0-9783-03cd720eeaaf",
   "metadata": {},
   "outputs": [
    {
     "data": {
      "text/plain": [
       "5.0"
      ]
     },
     "execution_count": 4,
     "metadata": {},
     "output_type": "execute_result"
    }
   ],
   "source": [
    "(50 - 5*6) / 4 "
   ]
  },
  {
   "cell_type": "code",
   "execution_count": 112,
   "id": "e0209a74-348f-4d2d-864a-1562d6c74ea7",
   "metadata": {},
   "outputs": [
    {
     "data": {
      "text/plain": [
       "2"
      ]
     },
     "execution_count": 112,
     "metadata": {},
     "output_type": "execute_result"
    }
   ],
   "source": [
    "# i % j have the same sign as j, unlike C\n",
    "-7 % 3  # => 2\n"
   ]
  },
  {
   "cell_type": "markdown",
   "id": "61f099d9-743f-4814-9a18-b336a73547ec",
   "metadata": {},
   "source": [
    "### Comparisons"
   ]
  },
  {
   "cell_type": "code",
   "execution_count": 27,
   "id": "f7d9d7c1-8475-4b6e-b128-c6a3cef6cb9f",
   "metadata": {},
   "outputs": [
    {
     "data": {
      "text/plain": [
       "True"
      ]
     },
     "execution_count": 27,
     "metadata": {},
     "output_type": "execute_result"
    }
   ],
   "source": [
    "# More comparisons\n",
    "1 < 10  # => True\n",
    "1 > 10  # => False\n",
    "2 <= 2  # => True\n",
    "2 >= 2  # => True"
   ]
  },
  {
   "cell_type": "code",
   "execution_count": 28,
   "id": "f0dbf1bd-31ad-4ebb-825a-8ff84b677722",
   "metadata": {},
   "outputs": [
    {
     "data": {
      "text/plain": [
       "False"
      ]
     },
     "execution_count": 28,
     "metadata": {},
     "output_type": "execute_result"
    }
   ],
   "source": [
    "# Seeing whether a value is in a range\n",
    "1 < 2 and 2 < 3  # => True\n",
    "2 < 3 and 3 < 2  # => False"
   ]
  },
  {
   "cell_type": "code",
   "execution_count": 29,
   "id": "26084940-e405-4efa-ac11-14080b6b0a50",
   "metadata": {},
   "outputs": [
    {
     "data": {
      "text/plain": [
       "False"
      ]
     },
     "execution_count": 29,
     "metadata": {},
     "output_type": "execute_result"
    }
   ],
   "source": [
    "# Chaining makes this look nicer\n",
    "1 < 2 < 3  # => True\n",
    "2 < 3 < 2  # => False"
   ]
  },
  {
   "cell_type": "markdown",
   "id": "cf0b3661-db12-4ba5-a985-4963eed13434",
   "metadata": {},
   "source": [
    "### More Math\n",
    "\n",
    "Floor division"
   ]
  },
  {
   "cell_type": "code",
   "execution_count": 5,
   "id": "17364a4b-47ec-4c97-afb9-03fb3c318597",
   "metadata": {},
   "outputs": [
    {
     "data": {
      "text/plain": [
       "1"
      ]
     },
     "execution_count": 5,
     "metadata": {},
     "output_type": "execute_result"
    }
   ],
   "source": [
    "8//5 # floor division discards the fractional part"
   ]
  },
  {
   "cell_type": "markdown",
   "id": "e8603b7f-4785-4a86-9db5-7459f45667a5",
   "metadata": {},
   "source": [
    "Remainder of the division"
   ]
  },
  {
   "cell_type": "code",
   "execution_count": 6,
   "id": "d0ed9ec2-d1be-46fc-9db4-4fc093d43544",
   "metadata": {},
   "outputs": [
    {
     "data": {
      "text/plain": [
       "2"
      ]
     },
     "execution_count": 6,
     "metadata": {},
     "output_type": "execute_result"
    }
   ],
   "source": [
    " 17 % 3  # the % operator returns the remainder of the division"
   ]
  },
  {
   "cell_type": "markdown",
   "id": "3d6303a3-d730-4fb4-b3af-35be35da78b1",
   "metadata": {},
   "source": [
    "Square"
   ]
  },
  {
   "cell_type": "code",
   "execution_count": 7,
   "id": "7354ee26-9e36-479f-bbbf-3c54ab02fc99",
   "metadata": {},
   "outputs": [
    {
     "data": {
      "text/plain": [
       "25"
      ]
     },
     "execution_count": 7,
     "metadata": {},
     "output_type": "execute_result"
    }
   ],
   "source": [
    " 5 ** 2  # 5 squared"
   ]
  },
  {
   "cell_type": "code",
   "execution_count": 8,
   "id": "004a1511-6d70-4599-b5ae-70b83324c19b",
   "metadata": {},
   "outputs": [
    {
     "data": {
      "text/plain": [
       "128"
      ]
     },
     "execution_count": 8,
     "metadata": {},
     "output_type": "execute_result"
    }
   ],
   "source": [
    "2 ** 7  # 2 to the power of 7"
   ]
  },
  {
   "cell_type": "markdown",
   "id": "898aec71-8ebe-4087-a9b6-da0495edd98f",
   "metadata": {},
   "source": [
    "Round"
   ]
  },
  {
   "cell_type": "code",
   "execution_count": 9,
   "id": "8806e80e-3c46-4e9a-96bc-d4cabb0af448",
   "metadata": {},
   "outputs": [
    {
     "data": {
      "text/plain": [
       "51"
      ]
     },
     "execution_count": 9,
     "metadata": {},
     "output_type": "execute_result"
    }
   ],
   "source": [
    "round(51.3)"
   ]
  },
  {
   "cell_type": "code",
   "execution_count": 10,
   "id": "8a937df0-c224-45ac-aa0e-1aa8f8a3628d",
   "metadata": {},
   "outputs": [
    {
     "data": {
      "text/plain": [
       "51.889"
      ]
     },
     "execution_count": 10,
     "metadata": {},
     "output_type": "execute_result"
    }
   ],
   "source": [
    "#  round(number, ndigits=None)\n",
    "round(51.8888888888888888, 3)"
   ]
  },
  {
   "cell_type": "markdown",
   "id": "80e9b23c-1689-4579-979b-8e7665eac9cd",
   "metadata": {},
   "source": [
    "Variable "
   ]
  },
  {
   "cell_type": "code",
   "execution_count": 11,
   "id": "8cf082d0-8042-45fc-a639-0960382a847c",
   "metadata": {},
   "outputs": [],
   "source": [
    "width = 20"
   ]
  },
  {
   "cell_type": "code",
   "execution_count": 12,
   "id": "66a869a7-050c-4fe8-a4e5-ce17c38fc3aa",
   "metadata": {},
   "outputs": [],
   "source": [
    "height = 5 * 9"
   ]
  },
  {
   "cell_type": "code",
   "execution_count": 13,
   "id": "09cd1e2a-418f-473a-83cb-0f51409cfa91",
   "metadata": {},
   "outputs": [
    {
     "data": {
      "text/plain": [
       "900"
      ]
     },
     "execution_count": 13,
     "metadata": {},
     "output_type": "execute_result"
    }
   ],
   "source": [
    "width * height"
   ]
  },
  {
   "cell_type": "markdown",
   "id": "a549131a-2fb2-429b-b0c6-67e4b2dc4da9",
   "metadata": {},
   "source": [
    "Variable not defined"
   ]
  },
  {
   "cell_type": "code",
   "execution_count": 14,
   "id": "11091aed-6f65-4be9-9472-4796b182559a",
   "metadata": {},
   "outputs": [
    {
     "ename": "NameError",
     "evalue": "name 'n' is not defined",
     "output_type": "error",
     "traceback": [
      "\u001b[1;31m---------------------------------------------------------------------------\u001b[0m",
      "\u001b[1;31mNameError\u001b[0m                                 Traceback (most recent call last)",
      "Input \u001b[1;32mIn [14]\u001b[0m, in \u001b[0;36m<cell line: 1>\u001b[1;34m()\u001b[0m\n\u001b[1;32m----> 1\u001b[0m \u001b[43mn\u001b[49m\n",
      "\u001b[1;31mNameError\u001b[0m: name 'n' is not defined"
     ]
    }
   ],
   "source": [
    "n  # try to access an undefined variable\n"
   ]
  },
  {
   "cell_type": "markdown",
   "id": "7fd1c164-3fd7-44cc-93f4-868c230d94a3",
   "metadata": {},
   "source": [
    " absolute value"
   ]
  },
  {
   "cell_type": "code",
   "execution_count": 99,
   "id": "dbe0af20-7460-48b8-813d-514b2dc38948",
   "metadata": {},
   "outputs": [
    {
     "data": {
      "text/plain": [
       "10"
      ]
     },
     "execution_count": 99,
     "metadata": {},
     "output_type": "execute_result"
    }
   ],
   "source": [
    "abs(-10)"
   ]
  },
  {
   "cell_type": "code",
   "execution_count": 102,
   "id": "22a351a8-69e6-4d9d-a763-e668e85bacd0",
   "metadata": {},
   "outputs": [
    {
     "data": {
      "text/plain": [
       "3"
      ]
     },
     "execution_count": 102,
     "metadata": {},
     "output_type": "execute_result"
    }
   ],
   "source": [
    "max(1,2,3)"
   ]
  },
  {
   "cell_type": "code",
   "execution_count": 101,
   "id": "b8456cae-1b06-4bae-bed2-76f59d7b577f",
   "metadata": {},
   "outputs": [
    {
     "data": {
      "text/plain": [
       "1"
      ]
     },
     "execution_count": 101,
     "metadata": {},
     "output_type": "execute_result"
    }
   ],
   "source": [
    "min(1,2,3)"
   ]
  },
  {
   "cell_type": "markdown",
   "id": "ec1bb933-d0a3-4db7-9007-8187cf0bd028",
   "metadata": {},
   "source": [
    "## Strings\n",
    "\n",
    "[capitalize()](https://www.w3schools.com/python/ref_string_capitalize.asp)\n",
    "\n",
    "Converts the first character to upper case\n",
    "\n",
    "[count()](https://www.w3schools.com/python/ref_string_count.asp)\n",
    "\n",
    "Returns the number of times a specified value occurs in a string\n",
    "\n",
    "[endswith()](https://www.w3schools.com/python/ref_string_endswith.asp)\n",
    "\n",
    "Returns true if the string ends with the specified value\n",
    "\n",
    "[find()](https://www.w3schools.com/python/ref_string_find.asp)\n",
    "\n",
    "Searches the string for a specified value and returns the position of where it was found\n",
    "\n",
    "[format()](https://www.w3schools.com/python/ref_string_format.asp)\n",
    "\n",
    "Formats specified values in a string\n",
    "\n",
    "format_map()\n",
    "\n",
    "Formats specified values in a string\n",
    "\n",
    "[index()](https://www.w3schools.com/python/ref_string_index.asp)\n",
    "\n",
    "Searches the string for a specified value and returns the position of where it was found\n",
    "\n",
    "[isalnum()](https://www.w3schools.com/python/ref_string_isalnum.asp)\n",
    "\n",
    "Returns True if all characters in the string are alphanumeric\n",
    "\n",
    "[isalpha()](https://www.w3schools.com/python/ref_string_isalpha.asp)\n",
    "\n",
    "Returns True if all characters in the string are in the alphabet\n",
    "\n",
    "[isdigit()](https://www.w3schools.com/python/ref_string_isdigit.asp)\n",
    "\n",
    "Returns True if all characters in the string are digits\n",
    "\n",
    "[islower()](https://www.w3schools.com/python/ref_string_islower.asp)\n",
    "\n",
    "Returns True if all characters in the string are lower case\n",
    "\n",
    "[isnumeric()](https://www.w3schools.com/python/ref_string_isnumeric.asp)\n",
    "\n",
    "Returns True if all characters in the string are numeric\n",
    "\n",
    "[isspace()](https://www.w3schools.com/python/ref_string_isspace.asp)\n",
    "\n",
    "Returns True if all characters in the string are whitespaces\n",
    "\n",
    "[isupper()](https://www.w3schools.com/python/ref_string_isupper.asp)\n",
    "\n",
    "Returns True if all characters in the string are upper case\n",
    "\n",
    "[join()](https://www.w3schools.com/python/ref_string_join.asp)\n",
    "\n",
    "Converts the elements of an iterable into a string\n",
    "\n",
    "[lower()](https://www.w3schools.com/python/ref_string_lower.asp)\n",
    "\n",
    "Converts a string into lower case\n",
    "\n",
    "[replace()](https://www.w3schools.com/python/ref_string_replace.asp)\n",
    "\n",
    "Returns a string where a specified value is replaced with a specified value\n",
    "\n",
    "[split()](https://www.w3schools.com/python/ref_string_split.asp)\n",
    "\n",
    "Splits the string at the specified separator, and returns a list\n",
    "\n",
    "[splitlines()](https://www.w3schools.com/python/ref_string_splitlines.asp)\n",
    "\n",
    "Splits the string at line breaks and returns a list\n",
    "\n",
    "[startswith()](https://www.w3schools.com/python/ref_string_startswith.asp)\n",
    "\n",
    "Returns true if the string starts with the specified value\n",
    "\n",
    "[strip()](https://www.w3schools.com/python/ref_string_strip.asp)\n",
    "\n",
    "Returns a trimmed version of the string\n",
    "\n",
    "[title()](https://www.w3schools.com/python/ref_string_title.asp)\n",
    "\n",
    "Converts the first character of each word to upper case\n",
    "\n",
    "[translate()](https://www.w3schools.com/python/ref_string_translate.asp)\n",
    "\n",
    "Returns a translated string\n",
    "\n",
    "[upper()](https://www.w3schools.com/python/ref_string_upper.asp)\n",
    "\n",
    "Converts a string into upper case\n",
    "\n",
    "\n",
    "\n",
    "### Basic "
   ]
  },
  {
   "cell_type": "code",
   "execution_count": 15,
   "id": "0e69a22f-8f80-4064-90e1-9ecb0cebbc1f",
   "metadata": {},
   "outputs": [
    {
     "data": {
      "text/plain": [
       "'spam eggs'"
      ]
     },
     "execution_count": 15,
     "metadata": {},
     "output_type": "execute_result"
    }
   ],
   "source": [
    "'spam eggs'  # single quotes\n"
   ]
  },
  {
   "cell_type": "code",
   "execution_count": 16,
   "id": "a07237e1-44aa-4dd1-bb14-f15280576bed",
   "metadata": {},
   "outputs": [
    {
     "data": {
      "text/plain": [
       "\"doesn't\""
      ]
     },
     "execution_count": 16,
     "metadata": {},
     "output_type": "execute_result"
    }
   ],
   "source": [
    "'doesn\\'t'  # use \\' to escape the single quote...\n"
   ]
  },
  {
   "cell_type": "code",
   "execution_count": 17,
   "id": "201dc0bb-d17f-40d4-a044-83447069e2d0",
   "metadata": {},
   "outputs": [
    {
     "data": {
      "text/plain": [
       "\"doesn't\""
      ]
     },
     "execution_count": 17,
     "metadata": {},
     "output_type": "execute_result"
    }
   ],
   "source": [
    "\"doesn't\"  # ...or use double quotes instead"
   ]
  },
  {
   "cell_type": "code",
   "execution_count": 18,
   "id": "fbfeb955-7a00-4dae-a155-35bb250b2a51",
   "metadata": {},
   "outputs": [
    {
     "data": {
      "text/plain": [
       "'\"Yes,\" they said.'"
      ]
     },
     "execution_count": 18,
     "metadata": {},
     "output_type": "execute_result"
    }
   ],
   "source": [
    "'\"Yes,\" they said.'"
   ]
  },
  {
   "cell_type": "code",
   "execution_count": 19,
   "id": "f6b15ab5-401e-435f-b4cd-89b9b12923b4",
   "metadata": {},
   "outputs": [
    {
     "data": {
      "text/plain": [
       "'\"Yes,\" they said.'"
      ]
     },
     "execution_count": 19,
     "metadata": {},
     "output_type": "execute_result"
    }
   ],
   "source": [
    "\"\\\"Yes,\\\" they said.\""
   ]
  },
  {
   "cell_type": "code",
   "execution_count": 20,
   "id": "9392c63b-0b91-4177-b2d0-b562775a2454",
   "metadata": {},
   "outputs": [
    {
     "data": {
      "text/plain": [
       "'\"Isn\\'t,\" they said.'"
      ]
     },
     "execution_count": 20,
     "metadata": {},
     "output_type": "execute_result"
    }
   ],
   "source": [
    "'\"Isn\\'t,\" they said.'"
   ]
  },
  {
   "cell_type": "code",
   "execution_count": 21,
   "id": "f8b7a2d2-c690-488b-9abc-cf2fb643eab5",
   "metadata": {},
   "outputs": [
    {
     "name": "stdout",
     "output_type": "stream",
     "text": [
      "\"Isn't,\" they said.\n"
     ]
    }
   ],
   "source": [
    "print('\"Isn\\'t,\" they said.')"
   ]
  },
  {
   "cell_type": "markdown",
   "id": "9a83e53e-8f18-48a0-815f-b1f95542ee07",
   "metadata": {},
   "source": [
    "### Find / Replace / Strip "
   ]
  },
  {
   "cell_type": "code",
   "execution_count": 72,
   "id": "1045ebb9-fd96-47fc-b226-11af1685a6a6",
   "metadata": {},
   "outputs": [
    {
     "data": {
      "text/plain": [
       "True"
      ]
     },
     "execution_count": 72,
     "metadata": {},
     "output_type": "execute_result"
    }
   ],
   "source": [
    "'Py' in 'Python'"
   ]
  },
  {
   "cell_type": "code",
   "execution_count": 84,
   "id": "98324378-9269-4864-b27f-f17913516ae6",
   "metadata": {},
   "outputs": [
    {
     "data": {
      "text/plain": [
       "'I like apples'"
      ]
     },
     "execution_count": 84,
     "metadata": {},
     "output_type": "execute_result"
    }
   ],
   "source": [
    "txt = \"I like bananas\"\n",
    "\n",
    "txt.replace(\"bananas\", \"apples\")"
   ]
  },
  {
   "cell_type": "code",
   "execution_count": 91,
   "id": "6aa315f4-57ab-4aa8-84e9-a03ecda9be58",
   "metadata": {},
   "outputs": [
    {
     "data": {
      "text/plain": [
       "'banana'"
      ]
     },
     "execution_count": 91,
     "metadata": {},
     "output_type": "execute_result"
    }
   ],
   "source": [
    "txt = \"     banana     \"\n",
    "\n",
    "txt.strip()"
   ]
  },
  {
   "cell_type": "markdown",
   "id": "87c3176e-052d-4d24-89c6-5b62486cbf2b",
   "metadata": {},
   "source": [
    "### Quotes\n",
    "\n",
    "Unlike other languages, special characters such as \\n have the same meaning with both single ('...') and double (\"...\") quotes. The only difference between the two is that within single quotes you don’t need to escape \" (but you have to escape \\') and vice versa."
   ]
  },
  {
   "cell_type": "markdown",
   "id": "20d18e38-eb19-4621-bdd8-5881f0ffb46c",
   "metadata": {},
   "source": [
    "### Split"
   ]
  },
  {
   "cell_type": "code",
   "execution_count": 88,
   "id": "fe70619c-c051-4650-bba5-d4cbc185d4db",
   "metadata": {},
   "outputs": [
    {
     "data": {
      "text/plain": [
       "['welcome', 'to', 'the', 'jungle']"
      ]
     },
     "execution_count": 88,
     "metadata": {},
     "output_type": "execute_result"
    }
   ],
   "source": [
    "txt = \"welcome to the jungle\"\n",
    "\n",
    "txt.split()"
   ]
  },
  {
   "cell_type": "code",
   "execution_count": 89,
   "id": "67a3a6e1-8a28-4d6d-bfac-489bfe4ac663",
   "metadata": {},
   "outputs": [
    {
     "data": {
      "text/plain": [
       "['hello', 'my name is Peter', 'I am 26 years old']"
      ]
     },
     "execution_count": 89,
     "metadata": {},
     "output_type": "execute_result"
    }
   ],
   "source": [
    "txt = \"hello, my name is Peter, I am 26 years old\"\n",
    "\n",
    "txt.split(\", \")"
   ]
  },
  {
   "cell_type": "markdown",
   "id": "1a076af0-db18-4eff-a0b6-cc6a3c2545b5",
   "metadata": {},
   "source": [
    "### New Line  "
   ]
  },
  {
   "cell_type": "code",
   "execution_count": 22,
   "id": "c73f0070-2358-4b8d-895f-a17dfe01a0fe",
   "metadata": {},
   "outputs": [
    {
     "data": {
      "text/plain": [
       "'First line.\\nSecond line.'"
      ]
     },
     "execution_count": 22,
     "metadata": {},
     "output_type": "execute_result"
    }
   ],
   "source": [
    "'First line.\\nSecond line.' # with print(), \\n produces a new line"
   ]
  },
  {
   "cell_type": "code",
   "execution_count": 23,
   "id": "2b356965-96cf-4df1-94cb-8a43a238a55d",
   "metadata": {},
   "outputs": [
    {
     "name": "stdout",
     "output_type": "stream",
     "text": [
      "First line.\n",
      "Second line.\n"
     ]
    }
   ],
   "source": [
    "print('First line.\\nSecond line.' ) # \\n means newline"
   ]
  },
  {
   "cell_type": "code",
   "execution_count": 24,
   "id": "0e65459c-6be2-404f-8422-be1a45c5022a",
   "metadata": {},
   "outputs": [
    {
     "name": "stdout",
     "output_type": "stream",
     "text": [
      "Usage: thingy [OPTIONS]\n",
      "     -h                        Display this usage message\n",
      "     -H hostname               Hostname to connect to\n",
      "\n"
     ]
    }
   ],
   "source": [
    "print(\"\"\"\\\n",
    "Usage: thingy [OPTIONS]\n",
    "     -h                        Display this usage message\n",
    "     -H hostname               Hostname to connect to\n",
    "\"\"\")"
   ]
  },
  {
   "cell_type": "markdown",
   "id": "52ff10a2-83f4-441f-b4c7-7d9fa72e5ca3",
   "metadata": {},
   "source": [
    "If you don’t want characters prefaced by \\ to be interpreted as special characters, you can use raw strings by adding an r before the first quote:|"
   ]
  },
  {
   "cell_type": "code",
   "execution_count": 25,
   "id": "2baa847a-794e-49cd-ad99-65e6a9169cbd",
   "metadata": {},
   "outputs": [
    {
     "name": "stdout",
     "output_type": "stream",
     "text": [
      "C:\\some\n",
      "ame\n",
      "C:\\some\\name\n"
     ]
    }
   ],
   "source": [
    "print('C:\\some\\name')  # here \\n means newline!\n",
    "\n",
    "\n",
    "print(r'C:\\some\\name')  # note the r before the quote"
   ]
  },
  {
   "cell_type": "markdown",
   "id": "f8ccc6b3-e88e-434e-8326-bfb98942d638",
   "metadata": {},
   "source": [
    "### Concatenate / Join"
   ]
  },
  {
   "cell_type": "markdown",
   "id": "4ad2461e-ee9a-4634-9e0d-b7c31ba3bb01",
   "metadata": {},
   "source": [
    "concatenate with the + operator, and repeated with *:"
   ]
  },
  {
   "cell_type": "code",
   "execution_count": 26,
   "id": "17765ab0-ac10-4f16-a5df-977226b6107b",
   "metadata": {},
   "outputs": [
    {
     "data": {
      "text/plain": [
       "'unununium'"
      ]
     },
     "execution_count": 26,
     "metadata": {},
     "output_type": "execute_result"
    }
   ],
   "source": [
    "3 * 'un' + 'ium'"
   ]
  },
  {
   "cell_type": "markdown",
   "id": "6c2c55e5-4f4a-4a0c-be89-732d98a4614f",
   "metadata": {},
   "source": [
    "Two or more string literals (i.e. the ones enclosed between quotes) next to each other are automatically concatenated.\n",
    "\n",
    " useful when you want to break long strings"
   ]
  },
  {
   "cell_type": "code",
   "execution_count": 27,
   "id": "6756a084-f141-48d0-9772-1a48e2cd2f4f",
   "metadata": {},
   "outputs": [
    {
     "data": {
      "text/plain": [
       "'Python'"
      ]
     },
     "execution_count": 27,
     "metadata": {},
     "output_type": "execute_result"
    }
   ],
   "source": [
    "'Py' 'thon'"
   ]
  },
  {
   "cell_type": "code",
   "execution_count": 28,
   "id": "00653d46-abb2-466c-aaef-34dcb3fb1f0e",
   "metadata": {},
   "outputs": [
    {
     "data": {
      "text/plain": [
       "'Put several strings within parentheses to have them joined together.'"
      ]
     },
     "execution_count": 28,
     "metadata": {},
     "output_type": "execute_result"
    }
   ],
   "source": [
    "text = ('Put several strings within parentheses '\n",
    "        'to have them joined together.')\n",
    "text\n"
   ]
  },
  {
   "cell_type": "code",
   "execution_count": 29,
   "id": "5b68ea2e-92d7-4f92-a280-e1d41158f231",
   "metadata": {},
   "outputs": [
    {
     "data": {
      "text/plain": [
       "'Python'"
      ]
     },
     "execution_count": 29,
     "metadata": {},
     "output_type": "execute_result"
    }
   ],
   "source": [
    "prefix = 'Py'\n",
    "prefix + 'thon'"
   ]
  },
  {
   "cell_type": "code",
   "execution_count": 85,
   "id": "554356d0-aff5-4902-8db9-89e01f7e6a7e",
   "metadata": {},
   "outputs": [
    {
     "data": {
      "text/plain": [
       "'John#Peter#Vicky'"
      ]
     },
     "execution_count": 85,
     "metadata": {},
     "output_type": "execute_result"
    }
   ],
   "source": [
    "myTuple = (\"John\", \"Peter\", \"Vicky\")\n",
    "\n",
    "\"#\".join(myTuple)"
   ]
  },
  {
   "cell_type": "markdown",
   "id": "0f92dd7f-3459-4c65-8038-c2932aba80be",
   "metadata": {
    "tags": []
   },
   "source": [
    "### Immutable\n",
    "\n",
    "Python strings cannot be changed — they are immutable. Therefore, assigning to an indexed position in the string results in an error:"
   ]
  },
  {
   "cell_type": "code",
   "execution_count": 37,
   "id": "326d707f-fc94-47d1-894b-81fdee01f805",
   "metadata": {},
   "outputs": [
    {
     "ename": "TypeError",
     "evalue": "'str' object does not support item assignment",
     "output_type": "error",
     "traceback": [
      "\u001b[1;31m---------------------------------------------------------------------------\u001b[0m",
      "\u001b[1;31mTypeError\u001b[0m                                 Traceback (most recent call last)",
      "Input \u001b[1;32mIn [37]\u001b[0m, in \u001b[0;36m<cell line: 2>\u001b[1;34m()\u001b[0m\n\u001b[0;32m      1\u001b[0m word \u001b[38;5;241m=\u001b[39m \u001b[38;5;124m'\u001b[39m\u001b[38;5;124mpython\u001b[39m\u001b[38;5;124m'\u001b[39m\n\u001b[1;32m----> 2\u001b[0m word[\u001b[38;5;241m0\u001b[39m] \u001b[38;5;241m=\u001b[39m \u001b[38;5;124m'\u001b[39m\u001b[38;5;124mJ\u001b[39m\u001b[38;5;124m'\u001b[39m\n",
      "\u001b[1;31mTypeError\u001b[0m: 'str' object does not support item assignment"
     ]
    }
   ],
   "source": [
    "word = 'python'\n",
    "word[0] = 'J'"
   ]
  },
  {
   "cell_type": "markdown",
   "id": "ab70663c-39d4-45dd-b431-9329b72ddaee",
   "metadata": {},
   "source": [
    "If you need a different string, you should create a new one:"
   ]
  },
  {
   "cell_type": "code",
   "execution_count": 38,
   "id": "36c2a6ae-398e-4796-9b1e-a9e1be6b82eb",
   "metadata": {},
   "outputs": [
    {
     "data": {
      "text/plain": [
       "'Jython'"
      ]
     },
     "execution_count": 38,
     "metadata": {},
     "output_type": "execute_result"
    }
   ],
   "source": [
    " 'J' + word[1:]"
   ]
  },
  {
   "cell_type": "code",
   "execution_count": 39,
   "id": "07b67851-e655-4741-8e81-25916ad0cc93",
   "metadata": {},
   "outputs": [
    {
     "data": {
      "text/plain": [
       "'pypy'"
      ]
     },
     "execution_count": 39,
     "metadata": {},
     "output_type": "execute_result"
    }
   ],
   "source": [
    " word[:2] + 'py'"
   ]
  },
  {
   "cell_type": "markdown",
   "id": "5a07a4f1-f0c8-47cb-9670-fa63d92ec105",
   "metadata": {
    "tags": []
   },
   "source": [
    "### Length "
   ]
  },
  {
   "cell_type": "code",
   "execution_count": 40,
   "id": "5619b15b-b5a5-455f-8555-3d12464657c5",
   "metadata": {},
   "outputs": [
    {
     "data": {
      "text/plain": [
       "34"
      ]
     },
     "execution_count": 40,
     "metadata": {},
     "output_type": "execute_result"
    }
   ],
   "source": [
    "s = 'supercalifragilisticexpialidocious'\n",
    "len(s)"
   ]
  },
  {
   "cell_type": "markdown",
   "id": "424a71b2-822c-497d-91d8-12cedce45c8f",
   "metadata": {},
   "source": [
    "### Format"
   ]
  },
  {
   "cell_type": "code",
   "execution_count": 73,
   "id": "688a19f1-5c1c-418b-afc5-45543d7dc6c8",
   "metadata": {},
   "outputs": [
    {
     "data": {
      "text/plain": [
       "'The sum of 1 + 2 is 3'"
      ]
     },
     "execution_count": 73,
     "metadata": {},
     "output_type": "execute_result"
    }
   ],
   "source": [
    "\"The sum of 1 + 2 is {0}\".format(1+2)"
   ]
  },
  {
   "cell_type": "markdown",
   "id": "ef803c65-9dc1-4c77-be37-f8676eca07f3",
   "metadata": {
    "tags": []
   },
   "source": [
    "## Lists\n",
    "\n",
    "\n",
    "[append()](https://www.w3schools.com/python/ref_list_append.asp)\n",
    "\n",
    "Adds an element at the end of the list\n",
    "\n",
    "[clear()](https://www.w3schools.com/python/ref_list_clear.asp)\n",
    "\n",
    "Removes all the elements from the list\n",
    "\n",
    "[copy()](https://www.w3schools.com/python/ref_list_copy.asp)\n",
    "\n",
    "Returns a copy of the list\n",
    "\n",
    "[count()](https://www.w3schools.com/python/ref_list_count.asp)\n",
    "\n",
    "Returns the number of elements with the specified value\n",
    "\n",
    "[extend()](https://www.w3schools.com/python/ref_list_extend.asp)\n",
    "\n",
    "Add the elements of a list (or any iterable), to the end of the current list\n",
    "\n",
    "[index()](https://www.w3schools.com/python/ref_list_index.asp)\n",
    "\n",
    "Returns the index of the first element with the specified value\n",
    "\n",
    "[insert()](https://www.w3schools.com/python/ref_list_insert.asp)\n",
    "\n",
    "Adds an element at the specified position\n",
    "\n",
    "[pop()](https://www.w3schools.com/python/ref_list_pop.asp)\n",
    "\n",
    "Removes the element at the specified position\n",
    "\n",
    "[remove()](https://www.w3schools.com/python/ref_list_remove.asp)\n",
    "\n",
    "Removes the first item with the specified value\n",
    "\n",
    "[reverse()](https://www.w3schools.com/python/ref_list_reverse.asp)\n",
    "\n",
    "Reverses the order of the list\n",
    "\n",
    "[sort()](https://www.w3schools.com/python/ref_list_sort.asp)\n",
    "\n",
    "Sorts the list\n"
   ]
  },
  {
   "cell_type": "markdown",
   "id": "9cba6a4e-955c-49ee-a256-6061329205ee",
   "metadata": {},
   "source": [
    "### Basic "
   ]
  },
  {
   "cell_type": "code",
   "execution_count": 41,
   "id": "e6e19847-e30e-49cc-9c7d-60b4d13d511b",
   "metadata": {},
   "outputs": [],
   "source": [
    "squares = [1, 4, 9, 16, 25]"
   ]
  },
  {
   "cell_type": "code",
   "execution_count": 66,
   "id": "9d48d64c-6f6c-442c-a15a-f6a42afc8d4f",
   "metadata": {},
   "outputs": [
    {
     "data": {
      "text/plain": [
       "[1, 4, 9, 16, 25]"
      ]
     },
     "execution_count": 66,
     "metadata": {},
     "output_type": "execute_result"
    }
   ],
   "source": [
    "squares"
   ]
  },
  {
   "cell_type": "code",
   "execution_count": 69,
   "id": "98f85258-1033-4345-92b4-00211bcf05b6",
   "metadata": {},
   "outputs": [
    {
     "data": {
      "text/plain": [
       "5"
      ]
     },
     "execution_count": 69,
     "metadata": {},
     "output_type": "execute_result"
    }
   ],
   "source": [
    "len(squares)"
   ]
  },
  {
   "cell_type": "code",
   "execution_count": 92,
   "id": "8b6c8fb8-8a13-4f92-8462-385614b98bb4",
   "metadata": {},
   "outputs": [],
   "source": [
    "# clear()\tRemoves all the elements from the list\n",
    "\n",
    "squares.clear()"
   ]
  },
  {
   "cell_type": "code",
   "execution_count": 93,
   "id": "bd3de0ea-e641-4b8b-8040-1b5d70e3cbde",
   "metadata": {},
   "outputs": [
    {
     "data": {
      "text/plain": [
       "[]"
      ]
     },
     "execution_count": 93,
     "metadata": {},
     "output_type": "execute_result"
    }
   ],
   "source": [
    "squares"
   ]
  },
  {
   "cell_type": "markdown",
   "id": "39530597-10b2-45ec-8b6a-ac61873f05d0",
   "metadata": {},
   "source": [
    "### Mutable"
   ]
  },
  {
   "cell_type": "code",
   "execution_count": 43,
   "id": "3a035c07-b453-4b01-b7d8-aeb3dc23d770",
   "metadata": {},
   "outputs": [
    {
     "data": {
      "text/plain": [
       "[1, 8, 27, 64, 125]"
      ]
     },
     "execution_count": 43,
     "metadata": {},
     "output_type": "execute_result"
    }
   ],
   "source": [
    "cubes = [1, 8, 27, 65, 125]  # something's wrong here\n",
    "4 ** 3  # the cube of 4 is 64, not 65!\n",
    "\n",
    "cubes[3] = 64  # replace the wrong value\n",
    "cubes"
   ]
  },
  {
   "cell_type": "code",
   "execution_count": 44,
   "id": "016d16a4-fed6-47f7-af26-747a35c1573e",
   "metadata": {},
   "outputs": [
    {
     "data": {
      "text/plain": [
       "[1, 8, 27, 64, 125, 216, 343]"
      ]
     },
     "execution_count": 44,
     "metadata": {},
     "output_type": "execute_result"
    }
   ],
   "source": [
    "cubes.append(216)  # add the cube of 6\n",
    "cubes.append(7 ** 3)  # and the cube of 7\n",
    "cubes\n"
   ]
  },
  {
   "cell_type": "code",
   "execution_count": 65,
   "id": "f57b31d3-ebbc-428f-a8b9-b127027dee51",
   "metadata": {},
   "outputs": [
    {
     "data": {
      "text/plain": [
       "[]"
      ]
     },
     "execution_count": 65,
     "metadata": {},
     "output_type": "execute_result"
    }
   ],
   "source": [
    "letters = ['a', 'b', 'c', 'd', 'e', 'f', 'g']\n",
    "letters\n",
    "\n",
    "# replace some values\n",
    "letters[2:5] = ['C', 'D', 'E']\n",
    "letters\n",
    "\n",
    "# now remove them\n",
    "letters[2:5] = []\n",
    "letters\n",
    "\n",
    "# clear the list by replacing all the elements with an empty list\n",
    "letters[:] = []\n",
    "letters\n"
   ]
  },
  {
   "cell_type": "markdown",
   "id": "1d2ca43d-c0e1-46d6-8a48-80bf211deb10",
   "metadata": {},
   "source": [
    "### Nesting "
   ]
  },
  {
   "cell_type": "code",
   "execution_count": 70,
   "id": "746f8dd3-8065-4514-a0ff-2dbe976b97b2",
   "metadata": {},
   "outputs": [
    {
     "data": {
      "text/plain": [
       "'b'"
      ]
     },
     "execution_count": 70,
     "metadata": {},
     "output_type": "execute_result"
    }
   ],
   "source": [
    "a = ['a', 'b', 'c']\n",
    "n = [1, 2, 3]\n",
    "x = [a, n]\n",
    "x\n",
    "\n",
    "x[0]\n",
    "\n",
    "x[0][1]\n"
   ]
  },
  {
   "cell_type": "markdown",
   "id": "8ad73fae-5f52-4ff4-abf5-1cac642a9eec",
   "metadata": {},
   "source": [
    "### Concatenate "
   ]
  },
  {
   "cell_type": "code",
   "execution_count": 45,
   "id": "e63b2987-ce17-4ca5-a54c-937593920037",
   "metadata": {},
   "outputs": [
    {
     "data": {
      "text/plain": [
       "[1, 4, 9, 16, 25, 36, 49, 64, 81, 100]"
      ]
     },
     "execution_count": 45,
     "metadata": {},
     "output_type": "execute_result"
    }
   ],
   "source": [
    " squares + [36, 49, 64, 81, 100]"
   ]
  },
  {
   "cell_type": "markdown",
   "id": "9def3b93-ff12-49da-8864-b63570bfe508",
   "metadata": {},
   "source": [
    "### Sort"
   ]
  },
  {
   "cell_type": "code",
   "execution_count": 103,
   "id": "3e1963ce-9b81-4ee8-adfd-d90c6498c814",
   "metadata": {},
   "outputs": [],
   "source": [
    "cars = ['Ford', 'BMW', 'Volvo']\n",
    "\n",
    "cars.sort()"
   ]
  },
  {
   "cell_type": "code",
   "execution_count": 104,
   "id": "848a8ee6-a56c-43eb-aa92-ddc45b284964",
   "metadata": {},
   "outputs": [
    {
     "data": {
      "text/plain": [
       "['BMW', 'Ford', 'Volvo']"
      ]
     },
     "execution_count": 104,
     "metadata": {},
     "output_type": "execute_result"
    }
   ],
   "source": [
    "cars"
   ]
  },
  {
   "cell_type": "markdown",
   "id": "793dcd7d-fa1a-4fea-9990-5059e9cc2624",
   "metadata": {},
   "source": [
    "### Copy"
   ]
  },
  {
   "cell_type": "code",
   "execution_count": 98,
   "id": "76d0fa35-a2fd-4b9a-a04e-537434749b54",
   "metadata": {},
   "outputs": [],
   "source": [
    "\n",
    "# importing copy module\n",
    "import copy\n",
    "  \n",
    "# initializing list 1 \n",
    "li1 = [1, 2, [3,5], 4]\n",
    "\n",
    "# using copy for shallow copy  \n",
    "li2 = copy.copy(li1) \n",
    "  \n",
    "# using deepcopy for deepcopy  \n",
    "li3 = copy.deepcopy(li1) "
   ]
  },
  {
   "attachments": {
    "267fa0dc-7603-4de3-9529-d7e84481df04.png": {
     "image/png": "[encoded data removed]"
    },
    "28ba86b6-2392-492f-b830-2daed1990072.png": {
     "image/png": "[encoded data removed]"
    }
   },
   "cell_type": "markdown",
   "id": "1898ec88-4236-41e1-bb3a-5026ce16af30",
   "metadata": {},
   "source": [
    "![image.png](attachment:28ba86b6-2392-492f-b830-2daed1990072.png)\n",
    "\n",
    "![image.png](attachment:267fa0dc-7603-4de3-9529-d7e84481df04.png)"
   ]
  },
  {
   "cell_type": "markdown",
   "id": "c990c880-5a57-417e-b483-a992fc034371",
   "metadata": {
    "tags": []
   },
   "source": [
    "## Index \n"
   ]
  },
  {
   "cell_type": "markdown",
   "id": "5abf21bd-d935-4164-b625-02c41f95d3b3",
   "metadata": {},
   "source": [
    "Sequence types like strings / lists can be indexed and sliced"
   ]
  },
  {
   "cell_type": "code",
   "execution_count": 46,
   "id": "2ee3bfb0-4904-49e7-95b4-322e586eae80",
   "metadata": {},
   "outputs": [],
   "source": [
    "word = 'Python'"
   ]
  },
  {
   "cell_type": "markdown",
   "id": "e78c61ef-27fe-4a0c-b852-623c4ffac15e",
   "metadata": {},
   "source": [
    "Note that since -0 is the same as 0, negative indices start from -1"
   ]
  },
  {
   "cell_type": "markdown",
   "id": "af53a49d-0562-4bb9-ad3b-ee67b45924ac",
   "metadata": {},
   "source": [
    "```\n",
    " +---+---+---+---+---+---+\n",
    " | P | y | t | h | o | n |\n",
    " +---+---+---+---+---+---+\n",
    " 0   1   2   3   4   5   6\n",
    "-6  -5  -4  -3  -2  -1\n",
    "```"
   ]
  },
  {
   "cell_type": "code",
   "execution_count": 47,
   "id": "379a4d83-758d-4308-a8f5-abf591b383b1",
   "metadata": {},
   "outputs": [
    {
     "data": {
      "text/plain": [
       "'P'"
      ]
     },
     "execution_count": 47,
     "metadata": {},
     "output_type": "execute_result"
    }
   ],
   "source": [
    "word[0]  # character in position 0"
   ]
  },
  {
   "cell_type": "code",
   "execution_count": 48,
   "id": "9f63da29-d4c7-4790-ab73-5617c0628063",
   "metadata": {},
   "outputs": [
    {
     "data": {
      "text/plain": [
       "'n'"
      ]
     },
     "execution_count": 48,
     "metadata": {},
     "output_type": "execute_result"
    }
   ],
   "source": [
    "word[5]  # character in position 5"
   ]
  },
  {
   "cell_type": "code",
   "execution_count": 49,
   "id": "017e1bfc-66be-4503-b3c8-85b3b8d9e6a0",
   "metadata": {},
   "outputs": [
    {
     "data": {
      "text/plain": [
       "'n'"
      ]
     },
     "execution_count": 49,
     "metadata": {},
     "output_type": "execute_result"
    }
   ],
   "source": [
    "word[-1]  # last character"
   ]
  },
  {
   "cell_type": "code",
   "execution_count": 50,
   "id": "172d5658-9613-45a1-b216-221d9cccb196",
   "metadata": {},
   "outputs": [
    {
     "data": {
      "text/plain": [
       "'o'"
      ]
     },
     "execution_count": 50,
     "metadata": {},
     "output_type": "execute_result"
    }
   ],
   "source": [
    "word[-2]  # second-last character"
   ]
  },
  {
   "cell_type": "code",
   "execution_count": 51,
   "id": "91946751-a33c-44d2-8cdb-c89c084f0ca7",
   "metadata": {},
   "outputs": [
    {
     "data": {
      "text/plain": [
       "'P'"
      ]
     },
     "execution_count": 51,
     "metadata": {},
     "output_type": "execute_result"
    }
   ],
   "source": [
    "word[-6]"
   ]
  },
  {
   "cell_type": "code",
   "execution_count": 52,
   "id": "59073c17-f9c5-4d27-a34a-6467511617c0",
   "metadata": {},
   "outputs": [
    {
     "data": {
      "text/plain": [
       "'Py'"
      ]
     },
     "execution_count": 52,
     "metadata": {},
     "output_type": "execute_result"
    }
   ],
   "source": [
    "word[0:2]  # characters from position 0 (included) to 2 (excluded)"
   ]
  },
  {
   "cell_type": "code",
   "execution_count": 53,
   "id": "5be226af-e574-4aac-a93e-6abd294d5ddf",
   "metadata": {},
   "outputs": [
    {
     "data": {
      "text/plain": [
       "'tho'"
      ]
     },
     "execution_count": 53,
     "metadata": {},
     "output_type": "execute_result"
    }
   ],
   "source": [
    "word[2:5]  # characters from position 2 (included) to 5 (excluded)\n"
   ]
  },
  {
   "cell_type": "code",
   "execution_count": 54,
   "id": "34103033-28f2-4096-adb3-f001acb76d07",
   "metadata": {},
   "outputs": [
    {
     "data": {
      "text/plain": [
       "'Py'"
      ]
     },
     "execution_count": 54,
     "metadata": {},
     "output_type": "execute_result"
    }
   ],
   "source": [
    "word[:2]   # character from the beginning to position 2 (excluded)\n"
   ]
  },
  {
   "cell_type": "code",
   "execution_count": 55,
   "id": "1e794949-2fe9-425b-896f-4e4310d8430e",
   "metadata": {},
   "outputs": [
    {
     "data": {
      "text/plain": [
       "'on'"
      ]
     },
     "execution_count": 55,
     "metadata": {},
     "output_type": "execute_result"
    }
   ],
   "source": [
    "\n",
    "word[4:]   # characters from position 4 (included) to the end"
   ]
  },
  {
   "cell_type": "code",
   "execution_count": 56,
   "id": "6a8b0102-51d1-4572-85ac-40802cfe7e6f",
   "metadata": {},
   "outputs": [
    {
     "data": {
      "text/plain": [
       "'on'"
      ]
     },
     "execution_count": 56,
     "metadata": {},
     "output_type": "execute_result"
    }
   ],
   "source": [
    "word[-2:]  # characters from the second-last (included) to the end"
   ]
  },
  {
   "cell_type": "markdown",
   "id": "5f63cdec-ad4a-4f72-a438-cfd86a048494",
   "metadata": {},
   "source": [
    "Note how the start is always included, and the end always excluded. This makes sure that s[:i] + s[i:] is always equal to s:"
   ]
  },
  {
   "cell_type": "code",
   "execution_count": 57,
   "id": "04930b41-9af7-463c-aefe-4359f4a016a4",
   "metadata": {},
   "outputs": [
    {
     "data": {
      "text/plain": [
       "'Python'"
      ]
     },
     "execution_count": 57,
     "metadata": {},
     "output_type": "execute_result"
    }
   ],
   "source": [
    "word[:2] + word[2:]"
   ]
  },
  {
   "cell_type": "code",
   "execution_count": 58,
   "id": "c195336c-8525-48f9-ba94-550a52d32dd0",
   "metadata": {},
   "outputs": [
    {
     "data": {
      "text/plain": [
       "'Python'"
      ]
     },
     "execution_count": 58,
     "metadata": {},
     "output_type": "execute_result"
    }
   ],
   "source": [
    "word[:4] + word[4:]"
   ]
  },
  {
   "cell_type": "markdown",
   "id": "57985542-5c45-49ba-9801-817f5986f29e",
   "metadata": {},
   "source": [
    "For non-negative indices, the length of a slice is the difference of the indices, if both are within bounds. For example, the length of word[1:3] is 2."
   ]
  },
  {
   "cell_type": "code",
   "execution_count": 59,
   "id": "015981c8-868d-4ef1-9947-948fcf3d35aa",
   "metadata": {},
   "outputs": [
    {
     "ename": "IndexError",
     "evalue": "string index out of range",
     "output_type": "error",
     "traceback": [
      "\u001b[1;31m---------------------------------------------------------------------------\u001b[0m",
      "\u001b[1;31mIndexError\u001b[0m                                Traceback (most recent call last)",
      "Input \u001b[1;32mIn [59]\u001b[0m, in \u001b[0;36m<cell line: 1>\u001b[1;34m()\u001b[0m\n\u001b[1;32m----> 1\u001b[0m \u001b[43mword\u001b[49m\u001b[43m[\u001b[49m\u001b[38;5;241;43m42\u001b[39;49m\u001b[43m]\u001b[49m\n",
      "\u001b[1;31mIndexError\u001b[0m: string index out of range"
     ]
    }
   ],
   "source": [
    "word[42]  # the word only has 6 characters"
   ]
  },
  {
   "cell_type": "markdown",
   "id": "ed1b852a-ef5e-4da2-908d-c423e533cc2b",
   "metadata": {},
   "source": [
    "However, out of range slice indexes are handled gracefully when used for slicing:"
   ]
  },
  {
   "cell_type": "code",
   "execution_count": 60,
   "id": "2b295eb0-326e-4be1-aa45-e720a05893bd",
   "metadata": {},
   "outputs": [
    {
     "data": {
      "text/plain": [
       "'on'"
      ]
     },
     "execution_count": 60,
     "metadata": {},
     "output_type": "execute_result"
    }
   ],
   "source": [
    "word[4:42]"
   ]
  },
  {
   "cell_type": "code",
   "execution_count": 61,
   "id": "93e01986-b781-43d3-819c-e614d870acd5",
   "metadata": {},
   "outputs": [
    {
     "data": {
      "text/plain": [
       "''"
      ]
     },
     "execution_count": 61,
     "metadata": {},
     "output_type": "execute_result"
    }
   ],
   "source": [
    "word[42:]"
   ]
  },
  {
   "cell_type": "code",
   "execution_count": 62,
   "id": "940b56e3-9a38-4c99-a097-4219a3fd0de6",
   "metadata": {},
   "outputs": [],
   "source": [
    "squares = [1, 4, 9, 16, 25]"
   ]
  },
  {
   "cell_type": "code",
   "execution_count": 63,
   "id": "731c910b-e79c-41b7-b667-e57338adf73e",
   "metadata": {},
   "outputs": [
    {
     "data": {
      "text/plain": [
       "[1, 4, 9, 16, 25]"
      ]
     },
     "execution_count": 63,
     "metadata": {},
     "output_type": "execute_result"
    }
   ],
   "source": [
    "squares[:]"
   ]
  },
  {
   "cell_type": "code",
   "execution_count": 64,
   "id": "0af5df65-8522-414e-8d3a-cd5fa6e68171",
   "metadata": {},
   "outputs": [
    {
     "data": {
      "text/plain": [
       "1"
      ]
     },
     "execution_count": 64,
     "metadata": {},
     "output_type": "execute_result"
    }
   ],
   "source": [
    "squares[0]  # indexing returns the item"
   ]
  },
  {
   "cell_type": "markdown",
   "id": "cbbdf7ea-7a0a-401e-b642-e79c0a7ed05a",
   "metadata": {},
   "source": [
    "## Control Flow\n",
    "\n",
    "### While Loop"
   ]
  },
  {
   "cell_type": "code",
   "execution_count": 71,
   "id": "93788925-8c90-4482-bb40-a61e78a02dca",
   "metadata": {},
   "outputs": [
    {
     "name": "stdout",
     "output_type": "stream",
     "text": [
      "0,1,1,2,3,5,8,13,21,34,55,89,144,233,377,610,987,"
     ]
    }
   ],
   "source": [
    "a, b = 0, 1\n",
    "while a < 1000:\n",
    "    print(a, end=',')\n",
    "    a, b = b, a+b"
   ]
  },
  {
   "cell_type": "markdown",
   "id": "7f94d3b4-b6d7-4a34-b7e7-24d8219e2962",
   "metadata": {},
   "source": [
    "### if"
   ]
  },
  {
   "cell_type": "code",
   "execution_count": 74,
   "id": "4e210e6d-2b6f-4b4a-a827-9f7c88e8b9e9",
   "metadata": {},
   "outputs": [
    {
     "name": "stdin",
     "output_type": "stream",
     "text": [
      "Please enter an integer:  3\n"
     ]
    },
    {
     "name": "stdout",
     "output_type": "stream",
     "text": [
      "More\n"
     ]
    }
   ],
   "source": [
    "x = int(input(\"Please enter an integer: \"))\n",
    "\n",
    "if x < 0:\n",
    "    x = 0\n",
    "    print('Negative changed to zero')\n",
    "elif x == 0:\n",
    "    print('Zero')\n",
    "elif x == 1:\n",
    "    print('Single')\n",
    "else:\n",
    "    print('More')\n",
    "\n"
   ]
  },
  {
   "cell_type": "markdown",
   "id": "e99c8783-ff9b-4fc6-ab3c-2f398f4f43af",
   "metadata": {},
   "source": [
    "### For"
   ]
  },
  {
   "cell_type": "code",
   "execution_count": 75,
   "id": "560e9d50-2677-4126-81fc-ecd173a17686",
   "metadata": {},
   "outputs": [
    {
     "name": "stdout",
     "output_type": "stream",
     "text": [
      "cat 3\n",
      "window 6\n",
      "defenestrate 12\n"
     ]
    }
   ],
   "source": [
    "# Measure some strings:\n",
    "words = ['cat', 'window', 'defenestrate']\n",
    "for w in words:\n",
    "    print(w, len(w))\n"
   ]
  },
  {
   "cell_type": "code",
   "execution_count": 76,
   "id": "2c5f33d3-0ae7-46eb-92ad-4a39daaa2843",
   "metadata": {},
   "outputs": [],
   "source": [
    "# Create a sample collection\n",
    "users = {'Hans': 'active', 'Éléonore': 'inactive', '景太郎': 'active'}\n",
    "\n",
    "# Strategy:  Iterate over a copy\n",
    "for user, status in users.copy().items():\n",
    "    if status == 'inactive':\n",
    "        del users[user]\n",
    "\n",
    "# Strategy:  Create a new collection\n",
    "active_users = {}\n",
    "for user, status in users.items():\n",
    "    if status == 'active':\n",
    "        active_users[user] = status"
   ]
  },
  {
   "cell_type": "code",
   "execution_count": 78,
   "id": "6c18aa56-5803-4977-9f4a-415a68365765",
   "metadata": {},
   "outputs": [
    {
     "data": {
      "text/plain": [
       "{'Hans': 'active', '景太郎': 'active'}"
      ]
     },
     "execution_count": 78,
     "metadata": {},
     "output_type": "execute_result"
    }
   ],
   "source": [
    "active_users"
   ]
  },
  {
   "cell_type": "markdown",
   "id": "0b887bd6-9cd0-4e6c-99b7-bc7dc13f482a",
   "metadata": {},
   "source": [
    "### Range\n",
    "\n",
    "It generates arithmetic progressions:"
   ]
  },
  {
   "cell_type": "code",
   "execution_count": 79,
   "id": "df79027a-50c8-4d1c-9a96-85845c9ebf5a",
   "metadata": {},
   "outputs": [
    {
     "name": "stdout",
     "output_type": "stream",
     "text": [
      "0\n",
      "1\n",
      "2\n",
      "3\n",
      "4\n"
     ]
    }
   ],
   "source": [
    "for i in range(5):\n",
    "    print(i)"
   ]
  },
  {
   "cell_type": "code",
   "execution_count": 80,
   "id": "1e298aa6-8768-4d81-b051-97188e68a9a5",
   "metadata": {},
   "outputs": [
    {
     "data": {
      "text/plain": [
       "[5, 6, 7, 8, 9]"
      ]
     },
     "execution_count": 80,
     "metadata": {},
     "output_type": "execute_result"
    }
   ],
   "source": [
    "list(range(5, 10))\n"
   ]
  },
  {
   "cell_type": "code",
   "execution_count": 81,
   "id": "0d0cb089-43ed-4f8c-ad51-0e4e86afe2b3",
   "metadata": {},
   "outputs": [
    {
     "data": {
      "text/plain": [
       "[0, 3, 6, 9]"
      ]
     },
     "execution_count": 81,
     "metadata": {},
     "output_type": "execute_result"
    }
   ],
   "source": [
    " list(range(0, 10, 3))"
   ]
  },
  {
   "cell_type": "code",
   "execution_count": 82,
   "id": "acdd0304-b3be-42a4-927a-a1366f898f05",
   "metadata": {},
   "outputs": [
    {
     "data": {
      "text/plain": [
       "[-10, -40, -70]"
      ]
     },
     "execution_count": 82,
     "metadata": {},
     "output_type": "execute_result"
    }
   ],
   "source": [
    "list(range(-10, -100, -30))"
   ]
  },
  {
   "cell_type": "code",
   "execution_count": 1,
   "id": "a781b1e0-d9f2-4809-9dc0-5a301c8e2242",
   "metadata": {},
   "outputs": [
    {
     "name": "stdout",
     "output_type": "stream",
     "text": [
      "0 Mary\n",
      "1 had\n",
      "2 a\n",
      "3 little\n",
      "4 lamb\n"
     ]
    }
   ],
   "source": [
    "a = ['Mary', 'had', 'a', 'little', 'lamb']\n",
    "for i in range(len(a)):\n",
    "    print(i, a[i])\n"
   ]
  },
  {
   "cell_type": "markdown",
   "id": "292f9003-f780-433d-97c4-91e51d73cb02",
   "metadata": {},
   "source": [
    "### Enumerate\n",
    "\n",
    "Return an enumerate object. iterable must be a sequence, an iterator, or some other object which supports iteration."
   ]
  },
  {
   "cell_type": "code",
   "execution_count": 3,
   "id": "a5232ee1-f989-4b21-9ca2-bb2773eab725",
   "metadata": {},
   "outputs": [
    {
     "data": {
      "text/plain": [
       "[(0, 'Spring'), (1, 'Summer'), (2, 'Fall'), (3, 'Winter')]"
      ]
     },
     "execution_count": 3,
     "metadata": {},
     "output_type": "execute_result"
    }
   ],
   "source": [
    "seasons = ['Spring', 'Summer', 'Fall', 'Winter']\n",
    "list(enumerate(seasons))\n"
   ]
  },
  {
   "cell_type": "code",
   "execution_count": 4,
   "id": "f35f9691-2646-42a9-a4d3-a53d9b617e3e",
   "metadata": {},
   "outputs": [
    {
     "data": {
      "text/plain": [
       "[(1, 'Spring'), (2, 'Summer'), (3, 'Fall'), (4, 'Winter')]"
      ]
     },
     "execution_count": 4,
     "metadata": {},
     "output_type": "execute_result"
    }
   ],
   "source": [
    "\n",
    "list(enumerate(seasons, start=1))"
   ]
  },
  {
   "cell_type": "markdown",
   "id": "d8c3a8b2-de65-45af-9c95-071b28eb5f66",
   "metadata": {},
   "source": [
    "### Break and Continue\n",
    "\n",
    "The break statement, like in C, breaks out of the innermost enclosing for or while loop."
   ]
  },
  {
   "cell_type": "code",
   "execution_count": 5,
   "id": "bea4342e-d0f0-45b2-aa4f-3877892d207e",
   "metadata": {},
   "outputs": [
    {
     "name": "stdout",
     "output_type": "stream",
     "text": [
      "2 is a prime number\n",
      "3 is a prime number\n",
      "4 equals 2 * 2\n",
      "5 is a prime number\n",
      "6 equals 2 * 3\n",
      "7 is a prime number\n",
      "8 equals 2 * 4\n",
      "9 equals 3 * 3\n"
     ]
    }
   ],
   "source": [
    "for n in range(2, 10):\n",
    "    for x in range(2, n):\n",
    "        if n % x == 0:\n",
    "            print(n, 'equals', x, '*', n//x)\n",
    "            break\n",
    "    else:\n",
    "        # loop fell through without finding a factor\n",
    "        print(n, 'is a prime number')\n"
   ]
  },
  {
   "cell_type": "markdown",
   "id": "2324be6d-1490-4199-932d-b05b4eeca714",
   "metadata": {},
   "source": [
    "The continue statement, also borrowed from C, continues with the next iteration of the loop:"
   ]
  },
  {
   "cell_type": "code",
   "execution_count": 6,
   "id": "e12cf0eb-5aa4-4be4-a74b-36d8ee046ccc",
   "metadata": {},
   "outputs": [
    {
     "name": "stdout",
     "output_type": "stream",
     "text": [
      "Found an even number 2\n",
      "Found an odd number 3\n",
      "Found an even number 4\n",
      "Found an odd number 5\n",
      "Found an even number 6\n",
      "Found an odd number 7\n",
      "Found an even number 8\n",
      "Found an odd number 9\n"
     ]
    }
   ],
   "source": [
    "for num in range(2, 10):\n",
    "    if num % 2 == 0:\n",
    "        print(\"Found an even number\", num)\n",
    "        continue\n",
    "    print(\"Found an odd number\", num)\n"
   ]
  },
  {
   "cell_type": "markdown",
   "id": "d4a458d2-b09c-4754-9740-4fd2cf01d342",
   "metadata": {},
   "source": [
    "### Pass \n",
    "\n",
    "The pass statement does nothing. It can be used when a statement is required syntactically but the program requires no action"
   ]
  },
  {
   "cell_type": "code",
   "execution_count": 7,
   "id": "4ea0ae97-968f-42d3-b4cb-6c27362fbddd",
   "metadata": {},
   "outputs": [
    {
     "ename": "KeyboardInterrupt",
     "evalue": "",
     "output_type": "error",
     "traceback": [
      "\u001b[1;31m---------------------------------------------------------------------------\u001b[0m",
      "\u001b[1;31mKeyboardInterrupt\u001b[0m                         Traceback (most recent call last)",
      "Input \u001b[1;32mIn [7]\u001b[0m, in \u001b[0;36m<cell line: 2>\u001b[1;34m()\u001b[0m\n\u001b[0;32m      1\u001b[0m \u001b[38;5;28;01mwhile\u001b[39;00m \u001b[38;5;28;01mTrue\u001b[39;00m:\n\u001b[1;32m----> 2\u001b[0m     \u001b[38;5;28;01mpass\u001b[39;00m\n",
      "\u001b[1;31mKeyboardInterrupt\u001b[0m: "
     ]
    }
   ],
   "source": [
    "while True:\n",
    "    pass  # Busy-wait for keyboard interrupt (Ctrl+C)"
   ]
  },
  {
   "cell_type": "code",
   "execution_count": 8,
   "id": "6f0eba81-3648-43d3-a80f-0bcf5ca18024",
   "metadata": {},
   "outputs": [],
   "source": [
    "# This is commonly used for creating minimal classes:\n",
    "class MyEmptyClass:\n",
    "    pass\n"
   ]
  },
  {
   "cell_type": "markdown",
   "id": "d1d68c7a-789c-49f1-b867-83c365f191f8",
   "metadata": {},
   "source": [
    "### Defining Functions\n",
    "\n",
    "The keyword def introduces a function definition."
   ]
  },
  {
   "cell_type": "code",
   "execution_count": 8,
   "id": "dc8495f4-1504-4a3c-9e2b-c054bf27a0e2",
   "metadata": {},
   "outputs": [
    {
     "name": "stdout",
     "output_type": "stream",
     "text": [
      "0 1 1 2 3 5 8 13 21 34 55 89 144 233 377 610 987 1597 \n"
     ]
    }
   ],
   "source": [
    "def fib(n):    # write Fibonacci series up to n\n",
    "    \"\"\"Print a Fibonacci series up to n.\"\"\"\n",
    "    a, b = 0, 1\n",
    "    while a < n:\n",
    "        print(a, end=' ')\n",
    "        a, b = b, a+b\n",
    "    print()\n",
    "\n",
    "# Now call the function we just defined:\n",
    "fib(2000)"
   ]
  },
  {
   "cell_type": "markdown",
   "id": "4b2a9cd4-ba0d-44fb-b8e6-e7bd97213083",
   "metadata": {},
   "source": [
    "#### Function object"
   ]
  },
  {
   "cell_type": "code",
   "execution_count": 9,
   "id": "b6974493-137c-4200-917f-cd6a7f448ef9",
   "metadata": {},
   "outputs": [
    {
     "name": "stdout",
     "output_type": "stream",
     "text": [
      "0 1 1 2 3 5 8 13 21 34 55 89 \n"
     ]
    }
   ],
   "source": [
    "f = fib\n",
    "f(100)\n"
   ]
  },
  {
   "cell_type": "markdown",
   "id": "8b09f8cf-eabb-4597-bb25-722dd66856ad",
   "metadata": {},
   "source": [
    "#### Default Argument Values"
   ]
  },
  {
   "cell_type": "code",
   "execution_count": 10,
   "id": "59e95e06-4ac3-4539-b97d-e414dd5bb3d3",
   "metadata": {},
   "outputs": [],
   "source": [
    "def ask_ok(prompt, retries=4, reminder='Please try again!'):\n",
    "    while True:\n",
    "        ok = input(prompt)\n",
    "        if ok in ('y', 'ye', 'yes'):\n",
    "            return True\n",
    "        if ok in ('n', 'no', 'nop', 'nope'):\n",
    "            return False\n",
    "        retries = retries - 1\n",
    "        if retries < 0:\n",
    "            raise ValueError('invalid user response')\n",
    "        print(reminder)"
   ]
  },
  {
   "cell_type": "code",
   "execution_count": 11,
   "id": "89e13185-a3a8-4024-a653-b11a49b4c92b",
   "metadata": {},
   "outputs": [
    {
     "name": "stdin",
     "output_type": "stream",
     "text": [
      "Do you really want to quit? y\n"
     ]
    },
    {
     "data": {
      "text/plain": [
       "True"
      ]
     },
     "execution_count": 11,
     "metadata": {},
     "output_type": "execute_result"
    }
   ],
   "source": [
    "ask_ok('Do you really want to quit?')"
   ]
  },
  {
   "cell_type": "code",
   "execution_count": 12,
   "id": "9d3913e8-7b5b-45cf-a989-463a3d8719a1",
   "metadata": {},
   "outputs": [
    {
     "name": "stdin",
     "output_type": "stream",
     "text": [
      "Do you really want to quit? dfjaskldfjasdklfj\n"
     ]
    },
    {
     "name": "stdout",
     "output_type": "stream",
     "text": [
      "Please try again!\n"
     ]
    },
    {
     "name": "stdin",
     "output_type": "stream",
     "text": [
      "Do you really want to quit? n\n"
     ]
    },
    {
     "data": {
      "text/plain": [
       "False"
      ]
     },
     "execution_count": 12,
     "metadata": {},
     "output_type": "execute_result"
    }
   ],
   "source": [
    "ask_ok('Do you really want to quit?')"
   ]
  },
  {
   "cell_type": "markdown",
   "id": "29f32f5f-936a-473c-9b12-d033662afcb9",
   "metadata": {},
   "source": [
    "## Reference Check "
   ]
  },
  {
   "cell_type": "code",
   "execution_count": 30,
   "id": "ba9c2ae5-41ed-4acb-bead-8711e808c886",
   "metadata": {},
   "outputs": [
    {
     "data": {
      "text/plain": [
       "True"
      ]
     },
     "execution_count": 30,
     "metadata": {},
     "output_type": "execute_result"
    }
   ],
   "source": [
    "# (is vs. ==) is checks if two variables refer to the same object, but == checks\n",
    "# if the objects pointed to have the same values.\n",
    "a = [1, 2, 3, 4]  # Point a at a new list, [1, 2, 3, 4]\n",
    "b = a             # Point b at what a is pointing to\n",
    "b is a            # => True, a and b refer to the same object\n",
    "b == a            # => True, a's and b's objects are equal\n",
    "b = [1, 2, 3, 4]  # Point b at a new list, [1, 2, 3, 4]\n",
    "b is a            # => False, a and b do not refer to the same object\n",
    "b == a            # => True, a's and b's objects are equal"
   ]
  },
  {
   "cell_type": "markdown",
   "id": "2cfd284d-6a9a-4208-b264-39a41cba334a",
   "metadata": {},
   "source": [
    "## Reference\n",
    "\n",
    "https://docs.python.org/3/tutorial/\n",
    "\n",
    "https://docs.python.org/3/library/\n",
    "\n",
    "https://www.tutorialspoint.com/python3/index.htm\n",
    "\n",
    "https://jakevdp.github.io/PythonDataScienceHandbook/\n",
    "\n",
    "https://learnxinyminutes.com/docs/python/\n"
   ]
  }
 ],
 "metadata": {
  "kernelspec": {
   "display_name": "Python 3 (ipykernel)",
   "language": "python",
   "name": "python3"
  },
  "language_info": {
   "codemirror_mode": {
    "name": "ipython",
    "version": 3
   },
   "file_extension": ".py",
   "mimetype": "text/x-python",
   "name": "python",
   "nbconvert_exporter": "python",
   "pygments_lexer": "ipython3",
   "version": "3.9.12"
  },
  "toc-autonumbering": false,
  "toc-numberingH1": false,
  "toc-showcode": false,
  "toc-showmarkdowntxt": false,
  "toc-showtags": false
 },
 "nbformat": 4,
 "nbformat_minor": 5
}
