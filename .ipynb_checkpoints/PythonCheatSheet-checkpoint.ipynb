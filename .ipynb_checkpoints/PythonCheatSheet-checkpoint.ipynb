{
 "cells": [
  {
   "cell_type": "markdown",
   "id": "c57950c3-a97a-4c3e-86b3-786fbf0afccf",
   "metadata": {},
   "source": [
    "# Python 3 CheatSheet\n",
    "\n",
    "Victoria Pinzhen Liao"
   ]
  },
  {
   "cell_type": "markdown",
   "id": "cde197a5-6c05-4487-9cf7-66fa96ce02a5",
   "metadata": {},
   "source": []
  },
  {
   "cell_type": "markdown",
   "id": "72c1f11c-362d-409b-ae7c-3091297fa3f6",
   "metadata": {},
   "source": [
    "## Numbers\n",
    "\n",
    "### +, -, * and / "
   ]
  },
  {
   "cell_type": "code",
   "execution_count": 1,
   "id": "51fe3b22-7280-45da-bd04-f827af625ed2",
   "metadata": {},
   "outputs": [
    {
     "data": {
      "text/plain": [
       "4"
      ]
     },
     "execution_count": 1,
     "metadata": {},
     "output_type": "execute_result"
    }
   ],
   "source": [
    "2 + 2"
   ]
  },
  {
   "cell_type": "code",
   "execution_count": 5,
   "id": "81d606e7-84c0-4c21-86fb-1867477c5e6b",
   "metadata": {},
   "outputs": [
    {
     "data": {
      "text/plain": [
       "1.6"
      ]
     },
     "execution_count": 5,
     "metadata": {},
     "output_type": "execute_result"
    }
   ],
   "source": [
    "8/5  # division always returns a floating point number"
   ]
  },
  {
   "cell_type": "code",
   "execution_count": 9,
   "id": "2ffb7fbd-b2a3-41c0-9783-03cd720eeaaf",
   "metadata": {},
   "outputs": [
    {
     "data": {
      "text/plain": [
       "5.0"
      ]
     },
     "execution_count": 9,
     "metadata": {},
     "output_type": "execute_result"
    }
   ],
   "source": [
    "(50 - 5*6) / 4 "
   ]
  },
  {
   "cell_type": "markdown",
   "id": "cf0b3661-db12-4ba5-a985-4963eed13434",
   "metadata": {},
   "source": [
    "### More Math\n",
    "\n",
    "Floor division"
   ]
  },
  {
   "cell_type": "code",
   "execution_count": 10,
   "id": "17364a4b-47ec-4c97-afb9-03fb3c318597",
   "metadata": {},
   "outputs": [
    {
     "data": {
      "text/plain": [
       "1"
      ]
     },
     "execution_count": 10,
     "metadata": {},
     "output_type": "execute_result"
    }
   ],
   "source": [
    "8//5 # floor division discards the fractional part"
   ]
  },
  {
   "cell_type": "markdown",
   "id": "e8603b7f-4785-4a86-9db5-7459f45667a5",
   "metadata": {},
   "source": [
    "Remainder of the division"
   ]
  },
  {
   "cell_type": "code",
   "execution_count": 7,
   "id": "d0ed9ec2-d1be-46fc-9db4-4fc093d43544",
   "metadata": {},
   "outputs": [
    {
     "data": {
      "text/plain": [
       "2"
      ]
     },
     "execution_count": 7,
     "metadata": {},
     "output_type": "execute_result"
    }
   ],
   "source": [
    " 17 % 3  # the % operator returns the remainder of the division"
   ]
  },
  {
   "cell_type": "markdown",
   "id": "3d6303a3-d730-4fb4-b3af-35be35da78b1",
   "metadata": {},
   "source": [
    "Square"
   ]
  },
  {
   "cell_type": "code",
   "execution_count": 8,
   "id": "7354ee26-9e36-479f-bbbf-3c54ab02fc99",
   "metadata": {},
   "outputs": [
    {
     "data": {
      "text/plain": [
       "25"
      ]
     },
     "execution_count": 8,
     "metadata": {},
     "output_type": "execute_result"
    }
   ],
   "source": [
    " 5 ** 2  # 5 squared"
   ]
  },
  {
   "cell_type": "code",
   "execution_count": 11,
   "id": "004a1511-6d70-4599-b5ae-70b83324c19b",
   "metadata": {},
   "outputs": [
    {
     "data": {
      "text/plain": [
       "128"
      ]
     },
     "execution_count": 11,
     "metadata": {},
     "output_type": "execute_result"
    }
   ],
   "source": [
    "2 ** 7  # 2 to the power of 7"
   ]
  },
  {
   "cell_type": "markdown",
   "id": "898aec71-8ebe-4087-a9b6-da0495edd98f",
   "metadata": {},
   "source": [
    "Round"
   ]
  },
  {
   "cell_type": "code",
   "execution_count": 18,
   "id": "8806e80e-3c46-4e9a-96bc-d4cabb0af448",
   "metadata": {},
   "outputs": [
    {
     "data": {
      "text/plain": [
       "51"
      ]
     },
     "execution_count": 18,
     "metadata": {},
     "output_type": "execute_result"
    }
   ],
   "source": [
    "round(51.3)"
   ]
  },
  {
   "cell_type": "code",
   "execution_count": 1,
   "id": "8a937df0-c224-45ac-aa0e-1aa8f8a3628d",
   "metadata": {},
   "outputs": [
    {
     "data": {
      "text/plain": [
       "51.889"
      ]
     },
     "execution_count": 1,
     "metadata": {},
     "output_type": "execute_result"
    }
   ],
   "source": [
    "#  round(number, ndigits=None)\n",
    "round(51.8888888888888888, 3)"
   ]
  },
  {
   "cell_type": "markdown",
   "id": "80e9b23c-1689-4579-979b-8e7665eac9cd",
   "metadata": {},
   "source": [
    "Variable "
   ]
  },
  {
   "cell_type": "code",
   "execution_count": 13,
   "id": "8cf082d0-8042-45fc-a639-0960382a847c",
   "metadata": {},
   "outputs": [],
   "source": [
    "width = 20"
   ]
  },
  {
   "cell_type": "code",
   "execution_count": 14,
   "id": "66a869a7-050c-4fe8-a4e5-ce17c38fc3aa",
   "metadata": {},
   "outputs": [],
   "source": [
    "height = 5 * 9"
   ]
  },
  {
   "cell_type": "code",
   "execution_count": 15,
   "id": "09cd1e2a-418f-473a-83cb-0f51409cfa91",
   "metadata": {},
   "outputs": [
    {
     "data": {
      "text/plain": [
       "900"
      ]
     },
     "execution_count": 15,
     "metadata": {},
     "output_type": "execute_result"
    }
   ],
   "source": [
    "width * height"
   ]
  },
  {
   "cell_type": "markdown",
   "id": "a549131a-2fb2-429b-b0c6-67e4b2dc4da9",
   "metadata": {},
   "source": [
    "Variable not defined"
   ]
  },
  {
   "cell_type": "code",
   "execution_count": 56,
   "id": "11091aed-6f65-4be9-9472-4796b182559a",
   "metadata": {},
   "outputs": [
    {
     "ename": "NameError",
     "evalue": "name 'n' is not defined",
     "output_type": "error",
     "traceback": [
      "\u001b[1;31m---------------------------------------------------------------------------\u001b[0m",
      "\u001b[1;31mNameError\u001b[0m                                 Traceback (most recent call last)",
      "Input \u001b[1;32mIn [56]\u001b[0m, in \u001b[0;36m<cell line: 1>\u001b[1;34m()\u001b[0m\n\u001b[1;32m----> 1\u001b[0m \u001b[43mn\u001b[49m\n",
      "\u001b[1;31mNameError\u001b[0m: name 'n' is not defined"
     ]
    }
   ],
   "source": [
    "n  # try to access an undefined variable\n"
   ]
  },
  {
   "cell_type": "markdown",
   "id": "ec1bb933-d0a3-4db7-9007-8187cf0bd028",
   "metadata": {},
   "source": [
    "## Strings\n",
    "\n",
    "### Basic "
   ]
  },
  {
   "cell_type": "code",
   "execution_count": 21,
   "id": "0e69a22f-8f80-4064-90e1-9ecb0cebbc1f",
   "metadata": {},
   "outputs": [
    {
     "data": {
      "text/plain": [
       "'spam eggs'"
      ]
     },
     "execution_count": 21,
     "metadata": {},
     "output_type": "execute_result"
    }
   ],
   "source": [
    "'spam eggs'  # single quotes\n"
   ]
  },
  {
   "cell_type": "code",
   "execution_count": 22,
   "id": "a07237e1-44aa-4dd1-bb14-f15280576bed",
   "metadata": {},
   "outputs": [
    {
     "data": {
      "text/plain": [
       "\"doesn't\""
      ]
     },
     "execution_count": 22,
     "metadata": {},
     "output_type": "execute_result"
    }
   ],
   "source": [
    "'doesn\\'t'  # use \\' to escape the single quote...\n"
   ]
  },
  {
   "cell_type": "code",
   "execution_count": 23,
   "id": "201dc0bb-d17f-40d4-a044-83447069e2d0",
   "metadata": {},
   "outputs": [
    {
     "data": {
      "text/plain": [
       "\"doesn't\""
      ]
     },
     "execution_count": 23,
     "metadata": {},
     "output_type": "execute_result"
    }
   ],
   "source": [
    "\"doesn't\"  # ...or use double quotes instead"
   ]
  },
  {
   "cell_type": "code",
   "execution_count": 24,
   "id": "fbfeb955-7a00-4dae-a155-35bb250b2a51",
   "metadata": {},
   "outputs": [
    {
     "data": {
      "text/plain": [
       "'\"Yes,\" they said.'"
      ]
     },
     "execution_count": 24,
     "metadata": {},
     "output_type": "execute_result"
    }
   ],
   "source": [
    "'\"Yes,\" they said.'"
   ]
  },
  {
   "cell_type": "code",
   "execution_count": 25,
   "id": "f6b15ab5-401e-435f-b4cd-89b9b12923b4",
   "metadata": {},
   "outputs": [
    {
     "data": {
      "text/plain": [
       "'\"Yes,\" they said.'"
      ]
     },
     "execution_count": 25,
     "metadata": {},
     "output_type": "execute_result"
    }
   ],
   "source": [
    "\"\\\"Yes,\\\" they said.\""
   ]
  },
  {
   "cell_type": "code",
   "execution_count": 26,
   "id": "9392c63b-0b91-4177-b2d0-b562775a2454",
   "metadata": {},
   "outputs": [
    {
     "data": {
      "text/plain": [
       "'\"Isn\\'t,\" they said.'"
      ]
     },
     "execution_count": 26,
     "metadata": {},
     "output_type": "execute_result"
    }
   ],
   "source": [
    "'\"Isn\\'t,\" they said.'"
   ]
  },
  {
   "cell_type": "code",
   "execution_count": 27,
   "id": "f8b7a2d2-c690-488b-9abc-cf2fb643eab5",
   "metadata": {},
   "outputs": [
    {
     "name": "stdout",
     "output_type": "stream",
     "text": [
      "\"Isn't,\" they said.\n"
     ]
    }
   ],
   "source": [
    "print('\"Isn\\'t,\" they said.')"
   ]
  },
  {
   "cell_type": "markdown",
   "id": "1a076af0-db18-4eff-a0b6-cc6a3c2545b5",
   "metadata": {},
   "source": [
    "### New line  "
   ]
  },
  {
   "cell_type": "code",
   "execution_count": 32,
   "id": "c73f0070-2358-4b8d-895f-a17dfe01a0fe",
   "metadata": {},
   "outputs": [
    {
     "data": {
      "text/plain": [
       "'First line.\\nSecond line.'"
      ]
     },
     "execution_count": 32,
     "metadata": {},
     "output_type": "execute_result"
    }
   ],
   "source": [
    "'First line.\\nSecond line.' # with print(), \\n produces a new line"
   ]
  },
  {
   "cell_type": "code",
   "execution_count": 30,
   "id": "2b356965-96cf-4df1-94cb-8a43a238a55d",
   "metadata": {},
   "outputs": [
    {
     "name": "stdout",
     "output_type": "stream",
     "text": [
      "First line.\n",
      "Second line.\n"
     ]
    }
   ],
   "source": [
    "print('First line.\\nSecond line.' ) # \\n means newline"
   ]
  },
  {
   "cell_type": "code",
   "execution_count": 33,
   "id": "0e65459c-6be2-404f-8422-be1a45c5022a",
   "metadata": {},
   "outputs": [
    {
     "name": "stdout",
     "output_type": "stream",
     "text": [
      "Usage: thingy [OPTIONS]\n",
      "     -h                        Display this usage message\n",
      "     -H hostname               Hostname to connect to\n",
      "\n"
     ]
    }
   ],
   "source": [
    "print(\"\"\"\\\n",
    "Usage: thingy [OPTIONS]\n",
    "     -h                        Display this usage message\n",
    "     -H hostname               Hostname to connect to\n",
    "\"\"\")"
   ]
  },
  {
   "cell_type": "markdown",
   "id": "52ff10a2-83f4-441f-b4c7-7d9fa72e5ca3",
   "metadata": {},
   "source": [
    "If you don’t want characters prefaced by \\ to be interpreted as special characters, you can use raw strings by adding an r before the first quote:|"
   ]
  },
  {
   "cell_type": "code",
   "execution_count": 34,
   "id": "2baa847a-794e-49cd-ad99-65e6a9169cbd",
   "metadata": {},
   "outputs": [
    {
     "name": "stdout",
     "output_type": "stream",
     "text": [
      "C:\\some\n",
      "ame\n",
      "C:\\some\\name\n"
     ]
    }
   ],
   "source": [
    "print('C:\\some\\name')  # here \\n means newline!\n",
    "\n",
    "\n",
    "print(r'C:\\some\\name')  # note the r before the quote"
   ]
  },
  {
   "cell_type": "markdown",
   "id": "f8ccc6b3-e88e-434e-8326-bfb98942d638",
   "metadata": {},
   "source": [
    "### Concatenate"
   ]
  },
  {
   "cell_type": "markdown",
   "id": "4ad2461e-ee9a-4634-9e0d-b7c31ba3bb01",
   "metadata": {},
   "source": [
    "concatenate with the + operator, and repeated with *:"
   ]
  },
  {
   "cell_type": "code",
   "execution_count": 35,
   "id": "17765ab0-ac10-4f16-a5df-977226b6107b",
   "metadata": {},
   "outputs": [
    {
     "data": {
      "text/plain": [
       "'unununium'"
      ]
     },
     "execution_count": 35,
     "metadata": {},
     "output_type": "execute_result"
    }
   ],
   "source": [
    "3 * 'un' + 'ium'"
   ]
  },
  {
   "cell_type": "markdown",
   "id": "6c2c55e5-4f4a-4a0c-be89-732d98a4614f",
   "metadata": {},
   "source": [
    "Two or more string literals (i.e. the ones enclosed between quotes) next to each other are automatically concatenated.\n",
    "\n",
    " useful when you want to break long strings"
   ]
  },
  {
   "cell_type": "code",
   "execution_count": 36,
   "id": "6756a084-f141-48d0-9772-1a48e2cd2f4f",
   "metadata": {},
   "outputs": [
    {
     "data": {
      "text/plain": [
       "'Python'"
      ]
     },
     "execution_count": 36,
     "metadata": {},
     "output_type": "execute_result"
    }
   ],
   "source": [
    "'Py' 'thon'"
   ]
  },
  {
   "cell_type": "code",
   "execution_count": 37,
   "id": "00653d46-abb2-466c-aaef-34dcb3fb1f0e",
   "metadata": {},
   "outputs": [
    {
     "data": {
      "text/plain": [
       "'Put several strings within parentheses to have them joined together.'"
      ]
     },
     "execution_count": 37,
     "metadata": {},
     "output_type": "execute_result"
    }
   ],
   "source": [
    "text = ('Put several strings within parentheses '\n",
    "        'to have them joined together.')\n",
    "text\n"
   ]
  },
  {
   "cell_type": "code",
   "execution_count": 38,
   "id": "5b68ea2e-92d7-4f92-a280-e1d41158f231",
   "metadata": {},
   "outputs": [
    {
     "data": {
      "text/plain": [
       "'Python'"
      ]
     },
     "execution_count": 38,
     "metadata": {},
     "output_type": "execute_result"
    }
   ],
   "source": [
    "prefix = 'Py'\n",
    "prefix + 'thon'"
   ]
  },
  {
   "cell_type": "markdown",
   "id": "0f92dd7f-3459-4c65-8038-c2932aba80be",
   "metadata": {
    "jp-MarkdownHeadingCollapsed": true,
    "tags": []
   },
   "source": [
    "### Immutable\n",
    "\n",
    "Python strings cannot be changed — they are immutable. Therefore, assigning to an indexed position in the string results in an error:"
   ]
  },
  {
   "cell_type": "code",
   "execution_count": 59,
   "id": "326d707f-fc94-47d1-894b-81fdee01f805",
   "metadata": {},
   "outputs": [
    {
     "ename": "TypeError",
     "evalue": "'str' object does not support item assignment",
     "output_type": "error",
     "traceback": [
      "\u001b[1;31m---------------------------------------------------------------------------\u001b[0m",
      "\u001b[1;31mTypeError\u001b[0m                                 Traceback (most recent call last)",
      "Input \u001b[1;32mIn [59]\u001b[0m, in \u001b[0;36m<cell line: 1>\u001b[1;34m()\u001b[0m\n\u001b[1;32m----> 1\u001b[0m word[\u001b[38;5;241m0\u001b[39m] \u001b[38;5;241m=\u001b[39m \u001b[38;5;124m'\u001b[39m\u001b[38;5;124mJ\u001b[39m\u001b[38;5;124m'\u001b[39m\n",
      "\u001b[1;31mTypeError\u001b[0m: 'str' object does not support item assignment"
     ]
    }
   ],
   "source": [
    " word[0] = 'J'"
   ]
  },
  {
   "cell_type": "markdown",
   "id": "ab70663c-39d4-45dd-b431-9329b72ddaee",
   "metadata": {},
   "source": [
    "If you need a different string, you should create a new one:"
   ]
  },
  {
   "cell_type": "code",
   "execution_count": 60,
   "id": "36c2a6ae-398e-4796-9b1e-a9e1be6b82eb",
   "metadata": {},
   "outputs": [
    {
     "data": {
      "text/plain": [
       "'Jython'"
      ]
     },
     "execution_count": 60,
     "metadata": {},
     "output_type": "execute_result"
    }
   ],
   "source": [
    " 'J' + word[1:]"
   ]
  },
  {
   "cell_type": "code",
   "execution_count": 61,
   "id": "07b67851-e655-4741-8e81-25916ad0cc93",
   "metadata": {},
   "outputs": [
    {
     "data": {
      "text/plain": [
       "'Pypy'"
      ]
     },
     "execution_count": 61,
     "metadata": {},
     "output_type": "execute_result"
    }
   ],
   "source": [
    " word[:2] + 'py'"
   ]
  },
  {
   "cell_type": "markdown",
   "id": "5a07a4f1-f0c8-47cb-9670-fa63d92ec105",
   "metadata": {
    "jp-MarkdownHeadingCollapsed": true,
    "tags": []
   },
   "source": [
    "### Length "
   ]
  },
  {
   "cell_type": "code",
   "execution_count": 62,
   "id": "5619b15b-b5a5-455f-8555-3d12464657c5",
   "metadata": {},
   "outputs": [
    {
     "data": {
      "text/plain": [
       "34"
      ]
     },
     "execution_count": 62,
     "metadata": {},
     "output_type": "execute_result"
    }
   ],
   "source": [
    "s = 'supercalifragilisticexpialidocious'\n",
    "len(s)"
   ]
  },
  {
   "cell_type": "markdown",
   "id": "ef803c65-9dc1-4c77-be37-f8676eca07f3",
   "metadata": {
    "tags": []
   },
   "source": [
    "## Lists"
   ]
  },
  {
   "cell_type": "markdown",
   "id": "9cba6a4e-955c-49ee-a256-6061329205ee",
   "metadata": {},
   "source": [
    "### Basic "
   ]
  },
  {
   "cell_type": "code",
   "execution_count": 63,
   "id": "e6e19847-e30e-49cc-9c7d-60b4d13d511b",
   "metadata": {},
   "outputs": [],
   "source": [
    "squares = [1, 4, 9, 16, 25]"
   ]
  },
  {
   "cell_type": "code",
   "execution_count": 64,
   "id": "9d48d64c-6f6c-442c-a15a-f6a42afc8d4f",
   "metadata": {},
   "outputs": [
    {
     "data": {
      "text/plain": [
       "[1, 4, 9, 16, 25]"
      ]
     },
     "execution_count": 64,
     "metadata": {},
     "output_type": "execute_result"
    }
   ],
   "source": [
    "squares"
   ]
  },
  {
   "cell_type": "markdown",
   "id": "39530597-10b2-45ec-8b6a-ac61873f05d0",
   "metadata": {},
   "source": [
    "### Mutable"
   ]
  },
  {
   "cell_type": "code",
   "execution_count": 73,
   "id": "3a035c07-b453-4b01-b7d8-aeb3dc23d770",
   "metadata": {},
   "outputs": [
    {
     "data": {
      "text/plain": [
       "[1, 8, 27, 64, 125]"
      ]
     },
     "execution_count": 73,
     "metadata": {},
     "output_type": "execute_result"
    }
   ],
   "source": [
    "cubes = [1, 8, 27, 65, 125]  # something's wrong here\n",
    "4 ** 3  # the cube of 4 is 64, not 65!\n",
    "\n",
    "cubes[3] = 64  # replace the wrong value\n",
    "cubes"
   ]
  },
  {
   "cell_type": "markdown",
   "id": "8ad73fae-5f52-4ff4-abf5-1cac642a9eec",
   "metadata": {},
   "source": [
    "### Concatenate "
   ]
  },
  {
   "cell_type": "code",
   "execution_count": 70,
   "id": "e63b2987-ce17-4ca5-a54c-937593920037",
   "metadata": {},
   "outputs": [
    {
     "data": {
      "text/plain": [
       "[1, 4, 9, 16, 25, 36, 49, 64, 81, 100]"
      ]
     },
     "execution_count": 70,
     "metadata": {},
     "output_type": "execute_result"
    }
   ],
   "source": [
    " squares + [36, 49, 64, 81, 100]"
   ]
  },
  {
   "cell_type": "markdown",
   "id": "c990c880-5a57-417e-b483-a992fc034371",
   "metadata": {
    "tags": []
   },
   "source": [
    "## Index \n"
   ]
  },
  {
   "cell_type": "markdown",
   "id": "5abf21bd-d935-4164-b625-02c41f95d3b3",
   "metadata": {},
   "source": [
    "Sequence types like strings / lists can be indexed and sliced"
   ]
  },
  {
   "cell_type": "code",
   "execution_count": 39,
   "id": "2ee3bfb0-4904-49e7-95b4-322e586eae80",
   "metadata": {},
   "outputs": [],
   "source": [
    "word = 'Python'"
   ]
  },
  {
   "cell_type": "markdown",
   "id": "e78c61ef-27fe-4a0c-b852-623c4ffac15e",
   "metadata": {},
   "source": [
    "Note that since -0 is the same as 0, negative indices start from -1"
   ]
  },
  {
   "cell_type": "markdown",
   "id": "af53a49d-0562-4bb9-ad3b-ee67b45924ac",
   "metadata": {},
   "source": [
    "```\n",
    " +---+---+---+---+---+---+\n",
    " | P | y | t | h | o | n |\n",
    " +---+---+---+---+---+---+\n",
    " 0   1   2   3   4   5   6\n",
    "-6  -5  -4  -3  -2  -1\n",
    "```"
   ]
  },
  {
   "cell_type": "code",
   "execution_count": 47,
   "id": "379a4d83-758d-4308-a8f5-abf591b383b1",
   "metadata": {},
   "outputs": [
    {
     "data": {
      "text/plain": [
       "'P'"
      ]
     },
     "execution_count": 47,
     "metadata": {},
     "output_type": "execute_result"
    }
   ],
   "source": [
    "word[0]  # character in position 0"
   ]
  },
  {
   "cell_type": "code",
   "execution_count": 41,
   "id": "9f63da29-d4c7-4790-ab73-5617c0628063",
   "metadata": {},
   "outputs": [
    {
     "data": {
      "text/plain": [
       "'n'"
      ]
     },
     "execution_count": 41,
     "metadata": {},
     "output_type": "execute_result"
    }
   ],
   "source": [
    "word[5]  # character in position 5"
   ]
  },
  {
   "cell_type": "code",
   "execution_count": 42,
   "id": "017e1bfc-66be-4503-b3c8-85b3b8d9e6a0",
   "metadata": {},
   "outputs": [
    {
     "data": {
      "text/plain": [
       "'n'"
      ]
     },
     "execution_count": 42,
     "metadata": {},
     "output_type": "execute_result"
    }
   ],
   "source": [
    "word[-1]  # last character"
   ]
  },
  {
   "cell_type": "code",
   "execution_count": 43,
   "id": "172d5658-9613-45a1-b216-221d9cccb196",
   "metadata": {},
   "outputs": [
    {
     "data": {
      "text/plain": [
       "'o'"
      ]
     },
     "execution_count": 43,
     "metadata": {},
     "output_type": "execute_result"
    }
   ],
   "source": [
    "word[-2]  # second-last character"
   ]
  },
  {
   "cell_type": "code",
   "execution_count": 44,
   "id": "91946751-a33c-44d2-8cdb-c89c084f0ca7",
   "metadata": {},
   "outputs": [
    {
     "data": {
      "text/plain": [
       "'P'"
      ]
     },
     "execution_count": 44,
     "metadata": {},
     "output_type": "execute_result"
    }
   ],
   "source": [
    "word[-6]"
   ]
  },
  {
   "cell_type": "code",
   "execution_count": 48,
   "id": "59073c17-f9c5-4d27-a34a-6467511617c0",
   "metadata": {},
   "outputs": [
    {
     "data": {
      "text/plain": [
       "'Py'"
      ]
     },
     "execution_count": 48,
     "metadata": {},
     "output_type": "execute_result"
    }
   ],
   "source": [
    "word[0:2]  # characters from position 0 (included) to 2 (excluded)"
   ]
  },
  {
   "cell_type": "code",
   "execution_count": 49,
   "id": "5be226af-e574-4aac-a93e-6abd294d5ddf",
   "metadata": {},
   "outputs": [
    {
     "data": {
      "text/plain": [
       "'tho'"
      ]
     },
     "execution_count": 49,
     "metadata": {},
     "output_type": "execute_result"
    }
   ],
   "source": [
    "word[2:5]  # characters from position 2 (included) to 5 (excluded)\n"
   ]
  },
  {
   "cell_type": "code",
   "execution_count": 50,
   "id": "34103033-28f2-4096-adb3-f001acb76d07",
   "metadata": {},
   "outputs": [
    {
     "data": {
      "text/plain": [
       "'Py'"
      ]
     },
     "execution_count": 50,
     "metadata": {},
     "output_type": "execute_result"
    }
   ],
   "source": [
    "word[:2]   # character from the beginning to position 2 (excluded)\n"
   ]
  },
  {
   "cell_type": "code",
   "execution_count": 51,
   "id": "1e794949-2fe9-425b-896f-4e4310d8430e",
   "metadata": {},
   "outputs": [
    {
     "data": {
      "text/plain": [
       "'on'"
      ]
     },
     "execution_count": 51,
     "metadata": {},
     "output_type": "execute_result"
    }
   ],
   "source": [
    "\n",
    "word[4:]   # characters from position 4 (included) to the end"
   ]
  },
  {
   "cell_type": "code",
   "execution_count": 52,
   "id": "6a8b0102-51d1-4572-85ac-40802cfe7e6f",
   "metadata": {},
   "outputs": [
    {
     "data": {
      "text/plain": [
       "'on'"
      ]
     },
     "execution_count": 52,
     "metadata": {},
     "output_type": "execute_result"
    }
   ],
   "source": [
    "word[-2:]  # characters from the second-last (included) to the end"
   ]
  },
  {
   "cell_type": "markdown",
   "id": "5f63cdec-ad4a-4f72-a438-cfd86a048494",
   "metadata": {},
   "source": [
    "Note how the start is always included, and the end always excluded. This makes sure that s[:i] + s[i:] is always equal to s:"
   ]
  },
  {
   "cell_type": "code",
   "execution_count": 53,
   "id": "04930b41-9af7-463c-aefe-4359f4a016a4",
   "metadata": {},
   "outputs": [
    {
     "data": {
      "text/plain": [
       "'Python'"
      ]
     },
     "execution_count": 53,
     "metadata": {},
     "output_type": "execute_result"
    }
   ],
   "source": [
    "word[:2] + word[2:]"
   ]
  },
  {
   "cell_type": "code",
   "execution_count": 54,
   "id": "c195336c-8525-48f9-ba94-550a52d32dd0",
   "metadata": {},
   "outputs": [
    {
     "data": {
      "text/plain": [
       "'Python'"
      ]
     },
     "execution_count": 54,
     "metadata": {},
     "output_type": "execute_result"
    }
   ],
   "source": [
    "word[:4] + word[4:]"
   ]
  },
  {
   "cell_type": "markdown",
   "id": "57985542-5c45-49ba-9801-817f5986f29e",
   "metadata": {},
   "source": [
    "For non-negative indices, the length of a slice is the difference of the indices, if both are within bounds. For example, the length of word[1:3] is 2."
   ]
  },
  {
   "cell_type": "code",
   "execution_count": 55,
   "id": "015981c8-868d-4ef1-9947-948fcf3d35aa",
   "metadata": {},
   "outputs": [
    {
     "ename": "IndexError",
     "evalue": "string index out of range",
     "output_type": "error",
     "traceback": [
      "\u001b[1;31m---------------------------------------------------------------------------\u001b[0m",
      "\u001b[1;31mIndexError\u001b[0m                                Traceback (most recent call last)",
      "Input \u001b[1;32mIn [55]\u001b[0m, in \u001b[0;36m<cell line: 1>\u001b[1;34m()\u001b[0m\n\u001b[1;32m----> 1\u001b[0m \u001b[43mword\u001b[49m\u001b[43m[\u001b[49m\u001b[38;5;241;43m42\u001b[39;49m\u001b[43m]\u001b[49m\n",
      "\u001b[1;31mIndexError\u001b[0m: string index out of range"
     ]
    }
   ],
   "source": [
    "word[42]  # the word only has 6 characters"
   ]
  },
  {
   "cell_type": "markdown",
   "id": "ed1b852a-ef5e-4da2-908d-c423e533cc2b",
   "metadata": {},
   "source": [
    "However, out of range slice indexes are handled gracefully when used for slicing:"
   ]
  },
  {
   "cell_type": "code",
   "execution_count": 57,
   "id": "2b295eb0-326e-4be1-aa45-e720a05893bd",
   "metadata": {},
   "outputs": [
    {
     "data": {
      "text/plain": [
       "'on'"
      ]
     },
     "execution_count": 57,
     "metadata": {},
     "output_type": "execute_result"
    }
   ],
   "source": [
    "word[4:42]"
   ]
  },
  {
   "cell_type": "code",
   "execution_count": 58,
   "id": "93e01986-b781-43d3-819c-e614d870acd5",
   "metadata": {},
   "outputs": [
    {
     "data": {
      "text/plain": [
       "''"
      ]
     },
     "execution_count": 58,
     "metadata": {},
     "output_type": "execute_result"
    }
   ],
   "source": [
    "word[42:]"
   ]
  },
  {
   "cell_type": "code",
   "execution_count": 67,
   "id": "940b56e3-9a38-4c99-a097-4219a3fd0de6",
   "metadata": {},
   "outputs": [],
   "source": [
    "squares = [1, 4, 9, 16, 25]"
   ]
  },
  {
   "cell_type": "code",
   "execution_count": 66,
   "id": "731c910b-e79c-41b7-b667-e57338adf73e",
   "metadata": {},
   "outputs": [
    {
     "data": {
      "text/plain": [
       "[1, 4, 9, 16, 25]"
      ]
     },
     "execution_count": 66,
     "metadata": {},
     "output_type": "execute_result"
    }
   ],
   "source": [
    "squares[:]"
   ]
  },
  {
   "cell_type": "code",
   "execution_count": 69,
   "id": "0af5df65-8522-414e-8d3a-cd5fa6e68171",
   "metadata": {},
   "outputs": [
    {
     "data": {
      "text/plain": [
       "1"
      ]
     },
     "execution_count": 69,
     "metadata": {},
     "output_type": "execute_result"
    }
   ],
   "source": [
    "squares[0]  # indexing returns the item"
   ]
  },
  {
   "cell_type": "code",
   "execution_count": null,
   "id": "377873b2-379d-4252-b55b-a0897b2c1cc9",
   "metadata": {},
   "outputs": [],
   "source": []
  },
  {
   "cell_type": "markdown",
   "id": "2cfd284d-6a9a-4208-b264-39a41cba334a",
   "metadata": {},
   "source": [
    "## Reference\n",
    "\n",
    "https://docs.python.org/3/tutorial/\n",
    "\n",
    "https://docs.python.org/3/library/\n",
    "\n",
    "https://www.tutorialspoint.com/python3/index.htm\n",
    "\n",
    "https://jakevdp.github.io/PythonDataScienceHandbook/"
   ]
  },
  {
   "cell_type": "code",
   "execution_count": null,
   "id": "49fb5b50-bdd8-410f-8c58-f2d984b46b24",
   "metadata": {},
   "outputs": [],
   "source": []
  }
 ],
 "metadata": {
  "kernelspec": {
   "display_name": "Python 3 (ipykernel)",
   "language": "python",
   "name": "python3"
  },
  "language_info": {
   "codemirror_mode": {
    "name": "ipython",
    "version": 3
   },
   "file_extension": ".py",
   "mimetype": "text/x-python",
   "name": "python",
   "nbconvert_exporter": "python",
   "pygments_lexer": "ipython3",
   "version": "3.9.12"
  },
  "toc-autonumbering": true,
  "toc-numberingH1": false,
  "toc-showcode": false,
  "toc-showmarkdowntxt": false,
  "toc-showtags": false
 },
 "nbformat": 4,
 "nbformat_minor": 5
}
